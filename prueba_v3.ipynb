{
 "cells": [
  {
   "cell_type": "markdown",
   "metadata": {},
   "source": [
    "**Banco Central del Ecuador** <br>\n",
    "**Dirección Nacional de Programación y Regulación Monetaria y Financiera**\n",
    "\n",
    "Empleo registrado en el Instituto Ecuatoriano de Seguridad Social (IESS) por rama de actividad <br>\n",
    "Fuente: [INEC - REESS](https://www.cemla.org/actividades/2020-final/2020-10-xxv-meeting-cbrn/Session%202/3.%20Machine_Learning...%20Wagner%20Piazza.pdf) "
   ]
  },
  {
   "cell_type": "markdown",
   "metadata": {},
   "source": [
    "**Empleo registrado**\n",
    "[Another Cell](#another_cell)"
   ]
  },
  {
   "cell_type": "code",
   "execution_count": 14,
   "metadata": {},
   "outputs": [],
   "source": [
    "# Notebook para graficar la cantidad de afiliados (empleo registrado) en el IESS por rama de actividad\n",
    "# Fabian VIllarreal Sosa (c)"
   ]
  },
  {
   "cell_type": "markdown",
   "metadata": {},
   "source": [
    "[Link to the destination](#the_destination)"
   ]
  },
  {
   "cell_type": "code",
   "execution_count": null,
   "metadata": {},
   "outputs": [],
   "source": [
    "# Librerias\n",
    "import os\n",
    "import pandas as pd\n",
    "import numpy as np\n",
    "\n",
    "import seaborn as sns\n",
    "from highcharts import Highchart"
   ]
  },
  {
   "cell_type": "code",
   "execution_count": 2,
   "metadata": {},
   "outputs": [],
   "source": [
    "# Estilo de los graficos\n",
    "sns.set_style('white')\n",
    "\n",
    "# Paleta de colores\n",
    "my_palette = ['#1E4976', '#5FA3BF', '#BBBE64', '#EFCB68', '#E5825E', '#D05022']\n",
    "sns.set_palette(my_palette)"
   ]
  },
  {
   "cell_type": "code",
   "execution_count": 10,
   "metadata": {},
   "outputs": [],
   "source": [
    "# Determinar directorio\n",
    "os.chdir('D:/fvillarreal/Programacion Sector Real/Otros indicadores/Afiliados IESS')"
   ]
  },
  {
   "cell_type": "markdown",
   "metadata": {},
   "source": [
    "** Hola**\n",
    "<a id='the_destination'></a>"
   ]
  },
  {
   "cell_type": "code",
   "execution_count": 4,
   "metadata": {},
   "outputs": [],
   "source": [
    "# Cargar los datos (de script de R)\n",
    "df = pd.read_excel('Resultados/empleo_iess_2022_03.xlsx', sheet_name = 'empleo')\n",
    "labels = pd.read_excel('Resultados/empleo_iess_2022_03.xlsx', sheet_name = 'labels')"
   ]
  },
  {
   "cell_type": "code",
   "execution_count": 5,
   "metadata": {},
   "outputs": [],
   "source": [
    "# Condiciones para series de graficos\n",
    "anios = list(range(2018, 2022 + 1, 1))\n",
    "s_dict = dict()"
   ]
  },
  {
   "cell_type": "code",
   "execution_count": 6,
   "metadata": {},
   "outputs": [],
   "source": [
    "# Funcion para graficar\n",
    "def hchart(ciiu, anios):\n",
    "    H = Highchart(width = 750, height = 400)\n",
    "\n",
    "    # Titulo del grafico\n",
    "    title = list(labels.loc[labels['ciiu'] == ciiu, 'labels'])\n",
    "\n",
    "    # Series\n",
    "    for i in range(len(anios)):\n",
    "        s_dict[f's{i}'] = list(df.loc[(df['ciiu'] == ciiu) & (df['anio'] == anios[i]), 'empleo'])\n",
    "    \n",
    "    # Opciones\n",
    "    options = {\n",
    "        'title': {\n",
    "            'text': title,\n",
    "            'style' : {\n",
    "                'fontSize': '14px',\n",
    "                'fontWeight': 'bold'\n",
    "                }\n",
    "        },\n",
    "        'subtitle': {\n",
    "            'text': 'Ventas locales: Formulario 104 SRI', \n",
    "            'style': {\n",
    "                'fontSize': '12px',\n",
    "                'fontWeight': 'bold'\n",
    "                }\n",
    "        },\n",
    "        'xAxis': {\n",
    "            'categories': list(set(df.mes))\n",
    "        },\n",
    "        'yAxis': {\n",
    "            'title': {\n",
    "                'text': 'Empleados',\n",
    "                'style': {'fontWeight': 'bold'}\n",
    "                }\n",
    "        },\n",
    "        'tooltip': {\n",
    "            'formatter': \"function() { \\\n",
    "                var ret = '', \\\n",
    "                multi, \\\n",
    "                axis = this.series.yAxis, \\\n",
    "                numericSymbols = ['k', 'M', 'G', 'T', 'P', 'E'], \\\n",
    "                i = numericSymbols.length; \\\n",
    "                while (i-- && ret === '') { \\\n",
    "                    multi = Math.pow(1000, i + 1); \\\n",
    "                    if (axis.tickInterval >= multi && numericSymbols[i] !== null) { \\\n",
    "                        ret = Highcharts.numberFormat(this.y / multi, 1) + numericSymbols[i]; \\\n",
    "                        } \\\n",
    "                    } \\\n",
    "                    return ret; \\\n",
    "                }\"\n",
    "        },\n",
    "        'plotOptions': {\n",
    "            'line': {\n",
    "                'colors': my_palette,\n",
    "                'marker': {\n",
    "                    'lineWidth': 2,\n",
    "                    'symbol': 'circle'\n",
    "                }\n",
    "            }\n",
    "        },\n",
    "        'colors': my_palette\n",
    "    }\n",
    "\n",
    "    H.set_dict_options(options)\n",
    "\n",
    "    H\n",
    "\n",
    "    for i in range(len(anios)):\n",
    "        H.add_data_set(s_dict[f's{i}'], 'line', str(anios[i]))\n",
    "    \n",
    "    return H"
   ]
  },
  {
   "cell_type": "code",
   "execution_count": 7,
   "metadata": {},
   "outputs": [
    {
     "data": {
      "text/html": [
       "<iframe style=\"border:0;outline:none;overflow:hidden\" srcdoc=\"&lt;!DOCTYPE html&gt; &lt;html lang=&quot;en&quot;&gt; &lt;head&gt; &lt;meta charset=&quot;utf-8&quot; /&gt; &lt;link href=&quot;https://www.highcharts.com/highslide/highslide.css&quot; rel=&quot;stylesheet&quot; /&gt; &lt;script type=&quot;text/javascript&quot; src=&quot;https://ajax.googleapis.com/ajax/libs/jquery/1.9.1/jquery.min.js&quot;&gt;&lt;/script&gt; &lt;script type=&quot;text/javascript&quot; src=&quot;https://code.highcharts.com/6/highcharts.js&quot;&gt;&lt;/script&gt; &lt;script type=&quot;text/javascript&quot; src=&quot;https://code.highcharts.com/6/highcharts-more.js&quot;&gt;&lt;/script&gt; &lt;script type=&quot;text/javascript&quot; src=&quot;https://code.highcharts.com/6/modules/heatmap.js&quot;&gt;&lt;/script&gt; &lt;script type=&quot;text/javascript&quot; src=&quot;https://code.highcharts.com/6/modules/exporting.js&quot;&gt;&lt;/script&gt; &lt;/head&gt; &lt;body style=&quot;margin:0;padding:0&quot;&gt; &lt;div id=&quot;container&quot; style=&quot;width:750px;height:400px;&quot;&gt;Loading....&lt;/div&gt; &lt;script&gt; $(function(){ Highcharts.setOptions({&quot;global&quot;: {}, &quot;lang&quot;: {}}); var option = {&quot;chart&quot;: {&quot;renderTo&quot;: &quot;container&quot;, &quot;width&quot;: 750, &quot;height&quot;: 400}, &quot;colors&quot;: [&quot;#1E4976&quot;, &quot;#5FA3BF&quot;, &quot;#BBBE64&quot;, &quot;#EFCB68&quot;, &quot;#E5825E&quot;, &quot;#D05022&quot;], &quot;credits&quot;: {&quot;enabled&quot;: false}, &quot;drilldown&quot;: {}, &quot;exporting&quot;: {}, &quot;labels&quot;: {}, &quot;legend&quot;: {}, &quot;loading&quot;: {}, &quot;navigation&quot;: {}, &quot;pane&quot;: {}, &quot;plotOptions&quot;: {&quot;line&quot;: {&quot;marker&quot;: {&quot;lineWidth&quot;: 2, &quot;symbol&quot;: &quot;circle&quot;}}}, &quot;series&quot;: {}, &quot;subtitle&quot;: {&quot;text&quot;: &quot;Ventas locales: Formulario 104 SRI&quot;, &quot;style&quot;: {&quot;fontSize&quot;: &quot;12px&quot;, &quot;fontWeight&quot;: &quot;bold&quot;}}, &quot;title&quot;: {&quot;text&quot;: [&quot;Construcci\\u00f3n.&quot;], &quot;style&quot;: {&quot;fontSize&quot;: &quot;14px&quot;, &quot;fontWeight&quot;: &quot;bold&quot;}}, &quot;tooltip&quot;: {&quot;formatter&quot;: function() { var ret = &#x27;&#x27;, multi, axis = this.series.yAxis, numericSymbols = [&#x27;k&#x27;, &#x27;M&#x27;, &#x27;G&#x27;, &#x27;T&#x27;, &#x27;P&#x27;, &#x27;E&#x27;], i = numericSymbols.length; while (i-- &amp;&amp; ret === &#x27;&#x27;) { multi = Math.pow(1000, i + 1); if (axis.tickInterval &gt;= multi &amp;&amp; numericSymbols[i] !== null) { ret = Highcharts.numberFormat(this.y / multi, 1) + numericSymbols[i]; } } return ret; }}, &quot;xAxis&quot;: {&quot;categories&quot;: [1, 2, 3, 4, 5, 6, 7, 8, 9, 10, 11, 12]}, &quot;yAxis&quot;: {&quot;title&quot;: {&quot;text&quot;: &quot;Empleados&quot;, &quot;style&quot;: {&quot;fontWeight&quot;: &quot;bold&quot;}}}}; var chart = new Highcharts.Chart(option); var data = [{&quot;data&quot;: [109373, 108502, 109084, 109366, 109724, 109002, 109143, 109984, 109597, 110050, 109648, 106817], &quot;type&quot;: &quot;line&quot;, &quot;name&quot;: &quot;2018&quot;}, {&quot;data&quot;: [106136, 104526, 104101, 104362, 104348, 103493, 103643, 102671, 102379, 99938, 98944, 97275], &quot;type&quot;: &quot;line&quot;, &quot;name&quot;: &quot;2019&quot;}, {&quot;data&quot;: [98475, 98201, 95097, 78313, 74437, 78363, 81091, 81924, 81778, 83341, 84278, 83570], &quot;type&quot;: &quot;line&quot;, &quot;name&quot;: &quot;2020&quot;}, {&quot;data&quot;: [82605, 82258, 83253, 82953, 84067, 85686, 85771, 84899, 86090, 86939, 86627, 85283], &quot;type&quot;: &quot;line&quot;, &quot;name&quot;: &quot;2021&quot;}, {&quot;data&quot;: [84686, 84487, 85975], &quot;type&quot;: &quot;line&quot;, &quot;name&quot;: &quot;2022&quot;}]; var dataLen = data.length; for (var ix = 0; ix &lt; dataLen; ix++) { chart.addSeries(data[ix]); } }); &lt;/script&gt; &lt;/body&gt; &lt;/html&gt;\" height=400 width=750></iframe>"
      ],
      "text/plain": [
       "<highcharts.highcharts.highcharts.Highchart at 0x214cfcb55b0>"
      ]
     },
     "execution_count": 7,
     "metadata": {},
     "output_type": "execute_result"
    }
   ],
   "source": [
    "hchart('F', anios)"
   ]
  },
  {
   "cell_type": "code",
   "execution_count": 8,
   "metadata": {},
   "outputs": [
    {
     "data": {
      "text/html": [
       "<iframe style=\"border:0;outline:none;overflow:hidden\" srcdoc=\"&lt;!DOCTYPE html&gt; &lt;html lang=&quot;en&quot;&gt; &lt;head&gt; &lt;meta charset=&quot;utf-8&quot; /&gt; &lt;link href=&quot;https://www.highcharts.com/highslide/highslide.css&quot; rel=&quot;stylesheet&quot; /&gt; &lt;script type=&quot;text/javascript&quot; src=&quot;https://ajax.googleapis.com/ajax/libs/jquery/1.9.1/jquery.min.js&quot;&gt;&lt;/script&gt; &lt;script type=&quot;text/javascript&quot; src=&quot;https://code.highcharts.com/6/highcharts.js&quot;&gt;&lt;/script&gt; &lt;script type=&quot;text/javascript&quot; src=&quot;https://code.highcharts.com/6/highcharts-more.js&quot;&gt;&lt;/script&gt; &lt;script type=&quot;text/javascript&quot; src=&quot;https://code.highcharts.com/6/modules/heatmap.js&quot;&gt;&lt;/script&gt; &lt;script type=&quot;text/javascript&quot; src=&quot;https://code.highcharts.com/6/modules/exporting.js&quot;&gt;&lt;/script&gt; &lt;/head&gt; &lt;body style=&quot;margin:0;padding:0&quot;&gt; &lt;div id=&quot;container&quot; style=&quot;width:750px;height:400px;&quot;&gt;Loading....&lt;/div&gt; &lt;script&gt; $(function(){ Highcharts.setOptions({&quot;global&quot;: {}, &quot;lang&quot;: {}}); var option = {&quot;chart&quot;: {&quot;renderTo&quot;: &quot;container&quot;, &quot;width&quot;: 750, &quot;height&quot;: 400}, &quot;colors&quot;: [&quot;#1E4976&quot;, &quot;#5FA3BF&quot;, &quot;#BBBE64&quot;, &quot;#EFCB68&quot;, &quot;#E5825E&quot;, &quot;#D05022&quot;], &quot;credits&quot;: {&quot;enabled&quot;: false}, &quot;drilldown&quot;: {}, &quot;exporting&quot;: {}, &quot;labels&quot;: {}, &quot;legend&quot;: {}, &quot;loading&quot;: {}, &quot;navigation&quot;: {}, &quot;pane&quot;: {}, &quot;plotOptions&quot;: {&quot;line&quot;: {&quot;marker&quot;: {&quot;lineWidth&quot;: 2, &quot;symbol&quot;: &quot;circle&quot;}}}, &quot;series&quot;: {}, &quot;subtitle&quot;: {&quot;text&quot;: &quot;Ventas locales: Formulario 104 SRI&quot;, &quot;style&quot;: {&quot;fontSize&quot;: &quot;12px&quot;, &quot;fontWeight&quot;: &quot;bold&quot;}}, &quot;title&quot;: {&quot;text&quot;: [&quot;Explotaci\\u00f3n de minas y canteras.&quot;], &quot;style&quot;: {&quot;fontSize&quot;: &quot;14px&quot;, &quot;fontWeight&quot;: &quot;bold&quot;}}, &quot;tooltip&quot;: {&quot;formatter&quot;: function() { var ret = &#x27;&#x27;, multi, axis = this.series.yAxis, numericSymbols = [&#x27;k&#x27;, &#x27;M&#x27;, &#x27;G&#x27;, &#x27;T&#x27;, &#x27;P&#x27;, &#x27;E&#x27;], i = numericSymbols.length; while (i-- &amp;&amp; ret === &#x27;&#x27;) { multi = Math.pow(1000, i + 1); if (axis.tickInterval &gt;= multi &amp;&amp; numericSymbols[i] !== null) { ret = Highcharts.numberFormat(this.y / multi, 1) + numericSymbols[i]; } } return ret; }}, &quot;xAxis&quot;: {&quot;categories&quot;: [1, 2, 3, 4, 5, 6, 7, 8, 9, 10, 11, 12]}, &quot;yAxis&quot;: {&quot;title&quot;: {&quot;text&quot;: &quot;Empleados&quot;, &quot;style&quot;: {&quot;fontWeight&quot;: &quot;bold&quot;}}}}; var chart = new Highcharts.Chart(option); var data = [{&quot;data&quot;: [33409, 33781, 34162, 34505, 34772, 35070, 35663, 35808, 35876, 36080, 36247, 35916], &quot;type&quot;: &quot;line&quot;, &quot;name&quot;: &quot;2018&quot;}, {&quot;data&quot;: [35788, 35612, 36178, 36531, 37092, 37143, 36994, 37259, 37404, 37207, 36718, 35964], &quot;type&quot;: &quot;line&quot;, &quot;name&quot;: &quot;2019&quot;}, {&quot;data&quot;: [35684, 35643, 35437, 33337, 31178, 30365, 30431, 30574, 31343, 32189, 33141, 33053], &quot;type&quot;: &quot;line&quot;, &quot;name&quot;: &quot;2020&quot;}, {&quot;data&quot;: [26661, 26989, 27325, 27570, 27942, 28273, 28627, 29006, 29692, 29931, 30519, 30546], &quot;type&quot;: &quot;line&quot;, &quot;name&quot;: &quot;2021&quot;}, {&quot;data&quot;: [30817, 31001, 31345], &quot;type&quot;: &quot;line&quot;, &quot;name&quot;: &quot;2022&quot;}]; var dataLen = data.length; for (var ix = 0; ix &lt; dataLen; ix++) { chart.addSeries(data[ix]); } }); &lt;/script&gt; &lt;/body&gt; &lt;/html&gt;\" height=400 width=750></iframe>"
      ],
      "text/plain": [
       "<highcharts.highcharts.highcharts.Highchart at 0x214cfd39d00>"
      ]
     },
     "execution_count": 8,
     "metadata": {},
     "output_type": "execute_result"
    }
   ],
   "source": [
    "hchart('B', anios)"
   ]
  },
  {
   "cell_type": "code",
   "execution_count": 9,
   "metadata": {},
   "outputs": [
    {
     "data": {
      "text/html": [
       "<script src=\"https://cdn.rawgit.com/parente/4c3e6936d0d7a46fd071/raw/65b816fb9bdd3c28b4ddf3af602bfd6015486383/code_toggle.js\"></script>\n"
      ],
      "text/plain": [
       "<IPython.core.display.HTML object>"
      ]
     },
     "metadata": {},
     "output_type": "display_data"
    }
   ],
   "source": [
    "%%html\n",
    "<script src=\"https://cdn.rawgit.com/parente/4c3e6936d0d7a46fd071/raw/65b816fb9bdd3c28b4ddf3af602bfd6015486383/code_toggle.js\"></script>"
   ]
  },
  {
   "cell_type": "code",
   "execution_count": null,
   "metadata": {},
   "outputs": [],
   "source": [
    "H.a"
   ]
  }
 ],
 "metadata": {
  "kernelspec": {
   "display_name": "Python 3.9.13 64-bit",
   "language": "python",
   "name": "python3"
  },
  "language_info": {
   "codemirror_mode": {
    "name": "ipython",
    "version": 3
   },
   "file_extension": ".py",
   "mimetype": "text/x-python",
   "name": "python",
   "nbconvert_exporter": "python",
   "pygments_lexer": "ipython3",
   "version": "3.9.13"
  },
  "orig_nbformat": 4,
  "vscode": {
   "interpreter": {
    "hash": "b22a7390d0f9410c2c8a1f86b8606fd8f64cb682abd83aadf69df245a85634a3"
   }
  }
 },
 "nbformat": 4,
 "nbformat_minor": 2
}
