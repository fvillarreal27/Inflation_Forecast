{
 "cells": [
  {
   "cell_type": "markdown",
   "metadata": {},
   "source": [
    "**Banco Central del Ecuador** <br>\n",
    "**Dirección Nacional de Programación y Regulación Monetaria y Financiera**\n",
    "\n",
    "Empleo registrado en el Instituto Ecuatoriano de Seguridad Social (IESS) por rama de actividad con base en la Clasificación Industrial Internacional Uniforme (CIIU) <br>\n",
    "**Fuente:** [INEC - REESS](https://www.cemla.org/actividades/2020-final/2020-10-xxv-meeting-cbrn/Session%202/3.%20Machine_Learning...%20Wagner%20Piazza.pdf) "
   ]
  },
  {
   "cell_type": "code",
   "execution_count": 1,
   "metadata": {},
   "outputs": [],
   "source": [
    "# Notebook para graficar la cantidad de afiliados (empleo registrado) en el IESS por rama de actividad\n",
    "# Fabian Villarreal Sosa (c)"
   ]
  },
  {
   "cell_type": "markdown",
   "metadata": {},
   "source": [
    "<a id = 'seleccion_emp'></a>\n",
    "**Empleo registrado por rama de actividad (CIIU)**\n",
    "\n",
    "[A](#A) &nbsp; &nbsp; [B](#B) &nbsp; &nbsp; [C](#C) &nbsp; &nbsp; [D](#D) &nbsp; &nbsp; [E](#E) &nbsp; &nbsp; [F](#F) &nbsp; &nbsp; [G](#G) &nbsp; &nbsp; [H](#H) &nbsp; &nbsp; [I](#I) &nbsp; &nbsp; [J](#J) &nbsp; &nbsp; [K](#K) &nbsp; &nbsp; [L](#L) &nbsp; &nbsp; [M](#M) &nbsp; &nbsp; [N](#N) &nbsp; &nbsp; [O](#O) &nbsp; &nbsp; [P](#P) &nbsp; &nbsp; [Q](#Q) &nbsp; &nbsp; [R](#R) &nbsp; &nbsp; [S](#S) &nbsp; &nbsp; [T](#T) &nbsp; &nbsp; [U](#U)"
   ]
  },
  {
   "cell_type": "code",
   "execution_count": 2,
   "metadata": {},
   "outputs": [],
   "source": [
    "# Librerias\n",
    "import os\n",
    "import pandas as pd\n",
    "import numpy as np\n",
    "\n",
    "import seaborn as sns\n",
    "from highcharts import Highchart"
   ]
  },
  {
   "cell_type": "code",
   "execution_count": 3,
   "metadata": {},
   "outputs": [],
   "source": [
    "# Estilo de los graficos\n",
    "sns.set_style('white')\n",
    "\n",
    "# Paleta de colores\n",
    "my_palette = ['#1E4976', '#5FA3BF', '#BBBE64', '#EFCB68', '#E5825E', '#D05022']\n",
    "sns.set_palette(my_palette)"
   ]
  },
  {
   "cell_type": "code",
   "execution_count": 4,
   "metadata": {},
   "outputs": [],
   "source": [
    "# Determinar directorio\n",
    "os.chdir('D:/fvillarreal/Programacion Sector Real/Otros indicadores/Afiliados IESS')"
   ]
  },
  {
   "cell_type": "code",
   "execution_count": 5,
   "metadata": {},
   "outputs": [],
   "source": [
    "# Cargar los datos (de script de R)\n",
    "df = pd.read_excel('Resultados/empleo_iess_2022_03.xlsx', sheet_name = 'empleo')\n",
    "labels = pd.read_excel('Resultados/empleo_iess_2022_03.xlsx', sheet_name = 'labels')"
   ]
  },
  {
   "cell_type": "code",
   "execution_count": 6,
   "metadata": {},
   "outputs": [],
   "source": [
    "# Condiciones para series de graficos\n",
    "anios = list(range(2018, 2022 + 1, 1))\n",
    "s_dict = dict()"
   ]
  },
  {
   "cell_type": "code",
   "execution_count": 7,
   "metadata": {},
   "outputs": [],
   "source": [
    "# Funcion para graficar\n",
    "def hchart(ciiu, anios):\n",
    "    H = Highchart(width = 750, height = 400)\n",
    "\n",
    "    # Titulo del grafico\n",
    "    title = list(labels.loc[labels['ciiu'] == ciiu, 'labels'])\n",
    "\n",
    "    # Series\n",
    "    for i in range(len(anios)):\n",
    "        s_dict[f's{i}'] = list(df.loc[(df['ciiu'] == ciiu) & (df['anio'] == anios[i]), 'empleo'])\n",
    "    \n",
    "    # Opciones\n",
    "    options = {\n",
    "        'title': {\n",
    "            'text': title,\n",
    "            'style' : {\n",
    "                'fontSize': '14px',\n",
    "                'fontWeight': 'bold'\n",
    "                }\n",
    "        },\n",
    "        'subtitle': {\n",
    "            'text': 'Ventas locales: Formulario 104 SRI', \n",
    "            'style': {\n",
    "                'fontSize': '12px',\n",
    "                'fontWeight': 'bold'\n",
    "                }\n",
    "        },\n",
    "        'xAxis': {\n",
    "            'categories': list(set(df.mes))\n",
    "        },\n",
    "        'yAxis': {\n",
    "            'title': {\n",
    "                'text': 'Empleados',\n",
    "                'style': {'fontWeight': 'bold'}\n",
    "                }\n",
    "        },\n",
    "        'tooltip': {\n",
    "            'formatter': \"function() { \\\n",
    "                var ret = '', \\\n",
    "                multi, \\\n",
    "                axis = this.series.yAxis, \\\n",
    "                numericSymbols = ['k', 'M', 'G', 'T', 'P', 'E'], \\\n",
    "                i = numericSymbols.length; \\\n",
    "                while (i-- && ret === '') { \\\n",
    "                    multi = Math.pow(1000, i + 1); \\\n",
    "                    if (axis.tickInterval >= multi && numericSymbols[i] !== null) { \\\n",
    "                        ret = Highcharts.numberFormat(this.y / multi, 1) + numericSymbols[i]; \\\n",
    "                        } \\\n",
    "                    } \\\n",
    "                    return ret; \\\n",
    "                }\"\n",
    "        },\n",
    "        'plotOptions': {\n",
    "            'line': {\n",
    "                'colors': my_palette,\n",
    "                'marker': {\n",
    "                    'lineWidth': 2,\n",
    "                    'symbol': 'circle'\n",
    "                }\n",
    "            }\n",
    "        },\n",
    "        'colors': my_palette\n",
    "    }\n",
    "\n",
    "    H.set_dict_options(options)\n",
    "\n",
    "    H\n",
    "\n",
    "    for i in range(len(anios)):\n",
    "        H.add_data_set(s_dict[f's{i}'], 'line', str(anios[i]))\n",
    "    \n",
    "    return H"
   ]
  },
  {
   "cell_type": "markdown",
   "metadata": {},
   "source": [
    "<a id = 'A'></a>\n",
    "**Empleo registrado** <br>\n",
    "**CIIU A: Agricultura, ganadería,  silvicultura y pesca**\n",
    "\n",
    "[Regresar](#seleccion_emp)"
   ]
  },
  {
   "cell_type": "code",
   "execution_count": 8,
   "metadata": {},
   "outputs": [
    {
     "data": {
      "text/html": [
       "<iframe style=\"border:0;outline:none;overflow:hidden\" srcdoc=\"&lt;!DOCTYPE html&gt; &lt;html lang=&quot;en&quot;&gt; &lt;head&gt; &lt;meta charset=&quot;utf-8&quot; /&gt; &lt;link href=&quot;https://www.highcharts.com/highslide/highslide.css&quot; rel=&quot;stylesheet&quot; /&gt; &lt;script type=&quot;text/javascript&quot; src=&quot;https://ajax.googleapis.com/ajax/libs/jquery/1.9.1/jquery.min.js&quot;&gt;&lt;/script&gt; &lt;script type=&quot;text/javascript&quot; src=&quot;https://code.highcharts.com/6/highcharts.js&quot;&gt;&lt;/script&gt; &lt;script type=&quot;text/javascript&quot; src=&quot;https://code.highcharts.com/6/highcharts-more.js&quot;&gt;&lt;/script&gt; &lt;script type=&quot;text/javascript&quot; src=&quot;https://code.highcharts.com/6/modules/heatmap.js&quot;&gt;&lt;/script&gt; &lt;script type=&quot;text/javascript&quot; src=&quot;https://code.highcharts.com/6/modules/exporting.js&quot;&gt;&lt;/script&gt; &lt;/head&gt; &lt;body style=&quot;margin:0;padding:0&quot;&gt; &lt;div id=&quot;container&quot; style=&quot;width:750px;height:400px;&quot;&gt;Loading....&lt;/div&gt; &lt;script&gt; $(function(){ Highcharts.setOptions({&quot;global&quot;: {}, &quot;lang&quot;: {}}); var option = {&quot;chart&quot;: {&quot;renderTo&quot;: &quot;container&quot;, &quot;width&quot;: 750, &quot;height&quot;: 400}, &quot;colors&quot;: [&quot;#1E4976&quot;, &quot;#5FA3BF&quot;, &quot;#BBBE64&quot;, &quot;#EFCB68&quot;, &quot;#E5825E&quot;, &quot;#D05022&quot;], &quot;credits&quot;: {&quot;enabled&quot;: false}, &quot;drilldown&quot;: {}, &quot;exporting&quot;: {}, &quot;labels&quot;: {}, &quot;legend&quot;: {}, &quot;loading&quot;: {}, &quot;navigation&quot;: {}, &quot;pane&quot;: {}, &quot;plotOptions&quot;: {&quot;line&quot;: {&quot;marker&quot;: {&quot;lineWidth&quot;: 2, &quot;symbol&quot;: &quot;circle&quot;}}}, &quot;series&quot;: {}, &quot;subtitle&quot;: {&quot;text&quot;: &quot;Ventas locales: Formulario 104 SRI&quot;, &quot;style&quot;: {&quot;fontSize&quot;: &quot;12px&quot;, &quot;fontWeight&quot;: &quot;bold&quot;}}, &quot;title&quot;: {&quot;text&quot;: [&quot;Agricultura, ganader\\u00eda, silvicultura y pesca&quot;], &quot;style&quot;: {&quot;fontSize&quot;: &quot;14px&quot;, &quot;fontWeight&quot;: &quot;bold&quot;}}, &quot;tooltip&quot;: {&quot;formatter&quot;: function() { var ret = &#x27;&#x27;, multi, axis = this.series.yAxis, numericSymbols = [&#x27;k&#x27;, &#x27;M&#x27;, &#x27;G&#x27;, &#x27;T&#x27;, &#x27;P&#x27;, &#x27;E&#x27;], i = numericSymbols.length; while (i-- &amp;&amp; ret === &#x27;&#x27;) { multi = Math.pow(1000, i + 1); if (axis.tickInterval &gt;= multi &amp;&amp; numericSymbols[i] !== null) { ret = Highcharts.numberFormat(this.y / multi, 1) + numericSymbols[i]; } } return ret; }}, &quot;xAxis&quot;: {&quot;categories&quot;: [1, 2, 3, 4, 5, 6, 7, 8, 9, 10, 11, 12]}, &quot;yAxis&quot;: {&quot;title&quot;: {&quot;text&quot;: &quot;Empleados&quot;, &quot;style&quot;: {&quot;fontWeight&quot;: &quot;bold&quot;}}}}; var chart = new Highcharts.Chart(option); var data = [{&quot;data&quot;: [220453, 219122, 217939, 220748, 221032, 220895, 222932, 223883, 224880, 226749, 226479, 225270], &quot;type&quot;: &quot;line&quot;, &quot;name&quot;: &quot;2018&quot;}, {&quot;data&quot;: [226340, 223222, 220751, 222594, 221155, 220609, 222905, 223803, 224678, 224897, 224714, 223436], &quot;type&quot;: &quot;line&quot;, &quot;name&quot;: &quot;2019&quot;}, {&quot;data&quot;: [226139, 222788, 218532, 208092, 204825, 205203, 206580, 208126, 210934, 213860, 214426, 214005], &quot;type&quot;: &quot;line&quot;, &quot;name&quot;: &quot;2020&quot;}, {&quot;data&quot;: [216786, 215755, 214355, 217607, 217647, 218339, 220452, 222280, 224594, 226665, 227710, 227398], &quot;type&quot;: &quot;line&quot;, &quot;name&quot;: &quot;2021&quot;}, {&quot;data&quot;: [229741, 227365, 225462], &quot;type&quot;: &quot;line&quot;, &quot;name&quot;: &quot;2022&quot;}]; var dataLen = data.length; for (var ix = 0; ix &lt; dataLen; ix++) { chart.addSeries(data[ix]); } }); &lt;/script&gt; &lt;/body&gt; &lt;/html&gt;\" height=400 width=750></iframe>"
      ],
      "text/plain": [
       "<highcharts.highcharts.highcharts.Highchart at 0x29148a30d90>"
      ]
     },
     "execution_count": 8,
     "metadata": {},
     "output_type": "execute_result"
    }
   ],
   "source": [
    "hchart('A', anios)"
   ]
  },
  {
   "cell_type": "markdown",
   "metadata": {},
   "source": [
    "<a id = 'B'></a>\n",
    "**Empleo registrado** <br>\n",
    "**CIIU B: Explotación de minas y canteras**\n",
    "\n",
    "[Regresar](#seleccion_emp)"
   ]
  },
  {
   "cell_type": "code",
   "execution_count": 9,
   "metadata": {},
   "outputs": [
    {
     "data": {
      "text/html": [
       "<iframe style=\"border:0;outline:none;overflow:hidden\" srcdoc=\"&lt;!DOCTYPE html&gt; &lt;html lang=&quot;en&quot;&gt; &lt;head&gt; &lt;meta charset=&quot;utf-8&quot; /&gt; &lt;link href=&quot;https://www.highcharts.com/highslide/highslide.css&quot; rel=&quot;stylesheet&quot; /&gt; &lt;script type=&quot;text/javascript&quot; src=&quot;https://ajax.googleapis.com/ajax/libs/jquery/1.9.1/jquery.min.js&quot;&gt;&lt;/script&gt; &lt;script type=&quot;text/javascript&quot; src=&quot;https://code.highcharts.com/6/highcharts.js&quot;&gt;&lt;/script&gt; &lt;script type=&quot;text/javascript&quot; src=&quot;https://code.highcharts.com/6/highcharts-more.js&quot;&gt;&lt;/script&gt; &lt;script type=&quot;text/javascript&quot; src=&quot;https://code.highcharts.com/6/modules/heatmap.js&quot;&gt;&lt;/script&gt; &lt;script type=&quot;text/javascript&quot; src=&quot;https://code.highcharts.com/6/modules/exporting.js&quot;&gt;&lt;/script&gt; &lt;/head&gt; &lt;body style=&quot;margin:0;padding:0&quot;&gt; &lt;div id=&quot;container&quot; style=&quot;width:750px;height:400px;&quot;&gt;Loading....&lt;/div&gt; &lt;script&gt; $(function(){ Highcharts.setOptions({&quot;global&quot;: {}, &quot;lang&quot;: {}}); var option = {&quot;chart&quot;: {&quot;renderTo&quot;: &quot;container&quot;, &quot;width&quot;: 750, &quot;height&quot;: 400}, &quot;colors&quot;: [&quot;#1E4976&quot;, &quot;#5FA3BF&quot;, &quot;#BBBE64&quot;, &quot;#EFCB68&quot;, &quot;#E5825E&quot;, &quot;#D05022&quot;], &quot;credits&quot;: {&quot;enabled&quot;: false}, &quot;drilldown&quot;: {}, &quot;exporting&quot;: {}, &quot;labels&quot;: {}, &quot;legend&quot;: {}, &quot;loading&quot;: {}, &quot;navigation&quot;: {}, &quot;pane&quot;: {}, &quot;plotOptions&quot;: {&quot;line&quot;: {&quot;marker&quot;: {&quot;lineWidth&quot;: 2, &quot;symbol&quot;: &quot;circle&quot;}}}, &quot;series&quot;: {}, &quot;subtitle&quot;: {&quot;text&quot;: &quot;Ventas locales: Formulario 104 SRI&quot;, &quot;style&quot;: {&quot;fontSize&quot;: &quot;12px&quot;, &quot;fontWeight&quot;: &quot;bold&quot;}}, &quot;title&quot;: {&quot;text&quot;: [&quot;Explotaci\\u00f3n de minas y canteras&quot;], &quot;style&quot;: {&quot;fontSize&quot;: &quot;14px&quot;, &quot;fontWeight&quot;: &quot;bold&quot;}}, &quot;tooltip&quot;: {&quot;formatter&quot;: function() { var ret = &#x27;&#x27;, multi, axis = this.series.yAxis, numericSymbols = [&#x27;k&#x27;, &#x27;M&#x27;, &#x27;G&#x27;, &#x27;T&#x27;, &#x27;P&#x27;, &#x27;E&#x27;], i = numericSymbols.length; while (i-- &amp;&amp; ret === &#x27;&#x27;) { multi = Math.pow(1000, i + 1); if (axis.tickInterval &gt;= multi &amp;&amp; numericSymbols[i] !== null) { ret = Highcharts.numberFormat(this.y / multi, 1) + numericSymbols[i]; } } return ret; }}, &quot;xAxis&quot;: {&quot;categories&quot;: [1, 2, 3, 4, 5, 6, 7, 8, 9, 10, 11, 12]}, &quot;yAxis&quot;: {&quot;title&quot;: {&quot;text&quot;: &quot;Empleados&quot;, &quot;style&quot;: {&quot;fontWeight&quot;: &quot;bold&quot;}}}}; var chart = new Highcharts.Chart(option); var data = [{&quot;data&quot;: [33409, 33781, 34162, 34505, 34772, 35070, 35663, 35808, 35876, 36080, 36247, 35916], &quot;type&quot;: &quot;line&quot;, &quot;name&quot;: &quot;2018&quot;}, {&quot;data&quot;: [35788, 35612, 36178, 36531, 37092, 37143, 36994, 37259, 37404, 37207, 36718, 35964], &quot;type&quot;: &quot;line&quot;, &quot;name&quot;: &quot;2019&quot;}, {&quot;data&quot;: [35684, 35643, 35437, 33337, 31178, 30365, 30431, 30574, 31343, 32189, 33141, 33053], &quot;type&quot;: &quot;line&quot;, &quot;name&quot;: &quot;2020&quot;}, {&quot;data&quot;: [26661, 26989, 27325, 27570, 27942, 28273, 28627, 29006, 29692, 29931, 30519, 30546], &quot;type&quot;: &quot;line&quot;, &quot;name&quot;: &quot;2021&quot;}, {&quot;data&quot;: [30817, 31001, 31345], &quot;type&quot;: &quot;line&quot;, &quot;name&quot;: &quot;2022&quot;}]; var dataLen = data.length; for (var ix = 0; ix &lt; dataLen; ix++) { chart.addSeries(data[ix]); } }); &lt;/script&gt; &lt;/body&gt; &lt;/html&gt;\" height=400 width=750></iframe>"
      ],
      "text/plain": [
       "<highcharts.highcharts.highcharts.Highchart at 0x291484921f0>"
      ]
     },
     "execution_count": 9,
     "metadata": {},
     "output_type": "execute_result"
    }
   ],
   "source": [
    "hchart('B', anios)"
   ]
  },
  {
   "cell_type": "markdown",
   "metadata": {},
   "source": [
    "<a id = 'C'></a>\n",
    "**Empleo registrado** <br>\n",
    "**CIIU C: Industrias manufactureras**\n",
    "\n",
    "[Regresar](#seleccion_emp)"
   ]
  },
  {
   "cell_type": "code",
   "execution_count": 10,
   "metadata": {},
   "outputs": [
    {
     "data": {
      "text/html": [
       "<iframe style=\"border:0;outline:none;overflow:hidden\" srcdoc=\"&lt;!DOCTYPE html&gt; &lt;html lang=&quot;en&quot;&gt; &lt;head&gt; &lt;meta charset=&quot;utf-8&quot; /&gt; &lt;link href=&quot;https://www.highcharts.com/highslide/highslide.css&quot; rel=&quot;stylesheet&quot; /&gt; &lt;script type=&quot;text/javascript&quot; src=&quot;https://ajax.googleapis.com/ajax/libs/jquery/1.9.1/jquery.min.js&quot;&gt;&lt;/script&gt; &lt;script type=&quot;text/javascript&quot; src=&quot;https://code.highcharts.com/6/highcharts.js&quot;&gt;&lt;/script&gt; &lt;script type=&quot;text/javascript&quot; src=&quot;https://code.highcharts.com/6/highcharts-more.js&quot;&gt;&lt;/script&gt; &lt;script type=&quot;text/javascript&quot; src=&quot;https://code.highcharts.com/6/modules/heatmap.js&quot;&gt;&lt;/script&gt; &lt;script type=&quot;text/javascript&quot; src=&quot;https://code.highcharts.com/6/modules/exporting.js&quot;&gt;&lt;/script&gt; &lt;/head&gt; &lt;body style=&quot;margin:0;padding:0&quot;&gt; &lt;div id=&quot;container&quot; style=&quot;width:750px;height:400px;&quot;&gt;Loading....&lt;/div&gt; &lt;script&gt; $(function(){ Highcharts.setOptions({&quot;global&quot;: {}, &quot;lang&quot;: {}}); var option = {&quot;chart&quot;: {&quot;renderTo&quot;: &quot;container&quot;, &quot;width&quot;: 750, &quot;height&quot;: 400}, &quot;colors&quot;: [&quot;#1E4976&quot;, &quot;#5FA3BF&quot;, &quot;#BBBE64&quot;, &quot;#EFCB68&quot;, &quot;#E5825E&quot;, &quot;#D05022&quot;], &quot;credits&quot;: {&quot;enabled&quot;: false}, &quot;drilldown&quot;: {}, &quot;exporting&quot;: {}, &quot;labels&quot;: {}, &quot;legend&quot;: {}, &quot;loading&quot;: {}, &quot;navigation&quot;: {}, &quot;pane&quot;: {}, &quot;plotOptions&quot;: {&quot;line&quot;: {&quot;marker&quot;: {&quot;lineWidth&quot;: 2, &quot;symbol&quot;: &quot;circle&quot;}}}, &quot;series&quot;: {}, &quot;subtitle&quot;: {&quot;text&quot;: &quot;Ventas locales: Formulario 104 SRI&quot;, &quot;style&quot;: {&quot;fontSize&quot;: &quot;12px&quot;, &quot;fontWeight&quot;: &quot;bold&quot;}}, &quot;title&quot;: {&quot;text&quot;: [&quot;Industrias manufactureras&quot;], &quot;style&quot;: {&quot;fontSize&quot;: &quot;14px&quot;, &quot;fontWeight&quot;: &quot;bold&quot;}}, &quot;tooltip&quot;: {&quot;formatter&quot;: function() { var ret = &#x27;&#x27;, multi, axis = this.series.yAxis, numericSymbols = [&#x27;k&#x27;, &#x27;M&#x27;, &#x27;G&#x27;, &#x27;T&#x27;, &#x27;P&#x27;, &#x27;E&#x27;], i = numericSymbols.length; while (i-- &amp;&amp; ret === &#x27;&#x27;) { multi = Math.pow(1000, i + 1); if (axis.tickInterval &gt;= multi &amp;&amp; numericSymbols[i] !== null) { ret = Highcharts.numberFormat(this.y / multi, 1) + numericSymbols[i]; } } return ret; }}, &quot;xAxis&quot;: {&quot;categories&quot;: [1, 2, 3, 4, 5, 6, 7, 8, 9, 10, 11, 12]}, &quot;yAxis&quot;: {&quot;title&quot;: {&quot;text&quot;: &quot;Empleados&quot;, &quot;style&quot;: {&quot;fontWeight&quot;: &quot;bold&quot;}}}}; var chart = new Highcharts.Chart(option); var data = [{&quot;data&quot;: [374678, 372954, 374747, 374521, 373627, 374347, 376263, 378446, 378606, 378706, 378013, 375756], &quot;type&quot;: &quot;line&quot;, &quot;name&quot;: &quot;2018&quot;}, {&quot;data&quot;: [375113, 372787, 371564, 372026, 370064, 369793, 372355, 373267, 372547, 370315, 369509, 366431], &quot;type&quot;: &quot;line&quot;, &quot;name&quot;: &quot;2019&quot;}, {&quot;data&quot;: [367661, 365574, 364020, 353303, 343295, 337096, 333886, 331315, 332744, 334981, 335554, 333504], &quot;type&quot;: &quot;line&quot;, &quot;name&quot;: &quot;2020&quot;}, {&quot;data&quot;: [340058, 341473, 343862, 343164, 343754, 344904, 345868, 347513, 350487, 352780, 352756, 351501], &quot;type&quot;: &quot;line&quot;, &quot;name&quot;: &quot;2021&quot;}, {&quot;data&quot;: [351837, 352061, 354706], &quot;type&quot;: &quot;line&quot;, &quot;name&quot;: &quot;2022&quot;}]; var dataLen = data.length; for (var ix = 0; ix &lt; dataLen; ix++) { chart.addSeries(data[ix]); } }); &lt;/script&gt; &lt;/body&gt; &lt;/html&gt;\" height=400 width=750></iframe>"
      ],
      "text/plain": [
       "<highcharts.highcharts.highcharts.Highchart at 0x29148a30b50>"
      ]
     },
     "execution_count": 10,
     "metadata": {},
     "output_type": "execute_result"
    }
   ],
   "source": [
    "hchart('C', anios)"
   ]
  },
  {
   "cell_type": "markdown",
   "metadata": {},
   "source": [
    "<a id = 'D'></a>\n",
    "**Empleo registrado** <br>\n",
    "**CIIU D: Suministro de electricidad, gas, vapor y aire acondicionado**\n",
    "\n",
    "[Regresar](#seleccion_emp)"
   ]
  },
  {
   "cell_type": "code",
   "execution_count": 11,
   "metadata": {},
   "outputs": [
    {
     "data": {
      "text/html": [
       "<iframe style=\"border:0;outline:none;overflow:hidden\" srcdoc=\"&lt;!DOCTYPE html&gt; &lt;html lang=&quot;en&quot;&gt; &lt;head&gt; &lt;meta charset=&quot;utf-8&quot; /&gt; &lt;link href=&quot;https://www.highcharts.com/highslide/highslide.css&quot; rel=&quot;stylesheet&quot; /&gt; &lt;script type=&quot;text/javascript&quot; src=&quot;https://ajax.googleapis.com/ajax/libs/jquery/1.9.1/jquery.min.js&quot;&gt;&lt;/script&gt; &lt;script type=&quot;text/javascript&quot; src=&quot;https://code.highcharts.com/6/highcharts.js&quot;&gt;&lt;/script&gt; &lt;script type=&quot;text/javascript&quot; src=&quot;https://code.highcharts.com/6/highcharts-more.js&quot;&gt;&lt;/script&gt; &lt;script type=&quot;text/javascript&quot; src=&quot;https://code.highcharts.com/6/modules/heatmap.js&quot;&gt;&lt;/script&gt; &lt;script type=&quot;text/javascript&quot; src=&quot;https://code.highcharts.com/6/modules/exporting.js&quot;&gt;&lt;/script&gt; &lt;/head&gt; &lt;body style=&quot;margin:0;padding:0&quot;&gt; &lt;div id=&quot;container&quot; style=&quot;width:750px;height:400px;&quot;&gt;Loading....&lt;/div&gt; &lt;script&gt; $(function(){ Highcharts.setOptions({&quot;global&quot;: {}, &quot;lang&quot;: {}}); var option = {&quot;chart&quot;: {&quot;renderTo&quot;: &quot;container&quot;, &quot;width&quot;: 750, &quot;height&quot;: 400}, &quot;colors&quot;: [&quot;#1E4976&quot;, &quot;#5FA3BF&quot;, &quot;#BBBE64&quot;, &quot;#EFCB68&quot;, &quot;#E5825E&quot;, &quot;#D05022&quot;], &quot;credits&quot;: {&quot;enabled&quot;: false}, &quot;drilldown&quot;: {}, &quot;exporting&quot;: {}, &quot;labels&quot;: {}, &quot;legend&quot;: {}, &quot;loading&quot;: {}, &quot;navigation&quot;: {}, &quot;pane&quot;: {}, &quot;plotOptions&quot;: {&quot;line&quot;: {&quot;marker&quot;: {&quot;lineWidth&quot;: 2, &quot;symbol&quot;: &quot;circle&quot;}}}, &quot;series&quot;: {}, &quot;subtitle&quot;: {&quot;text&quot;: &quot;Ventas locales: Formulario 104 SRI&quot;, &quot;style&quot;: {&quot;fontSize&quot;: &quot;12px&quot;, &quot;fontWeight&quot;: &quot;bold&quot;}}, &quot;title&quot;: {&quot;text&quot;: [&quot;Suministro de electricidad, gas, vapor y aire acondicionado&quot;], &quot;style&quot;: {&quot;fontSize&quot;: &quot;14px&quot;, &quot;fontWeight&quot;: &quot;bold&quot;}}, &quot;tooltip&quot;: {&quot;formatter&quot;: function() { var ret = &#x27;&#x27;, multi, axis = this.series.yAxis, numericSymbols = [&#x27;k&#x27;, &#x27;M&#x27;, &#x27;G&#x27;, &#x27;T&#x27;, &#x27;P&#x27;, &#x27;E&#x27;], i = numericSymbols.length; while (i-- &amp;&amp; ret === &#x27;&#x27;) { multi = Math.pow(1000, i + 1); if (axis.tickInterval &gt;= multi &amp;&amp; numericSymbols[i] !== null) { ret = Highcharts.numberFormat(this.y / multi, 1) + numericSymbols[i]; } } return ret; }}, &quot;xAxis&quot;: {&quot;categories&quot;: [1, 2, 3, 4, 5, 6, 7, 8, 9, 10, 11, 12]}, &quot;yAxis&quot;: {&quot;title&quot;: {&quot;text&quot;: &quot;Empleados&quot;, &quot;style&quot;: {&quot;fontWeight&quot;: &quot;bold&quot;}}}}; var chart = new Highcharts.Chart(option); var data = [{&quot;data&quot;: [19643, 19734, 19721, 19636, 19633, 19646, 19554, 19619, 19775, 19796, 19829, 19686], &quot;type&quot;: &quot;line&quot;, &quot;name&quot;: &quot;2018&quot;}, {&quot;data&quot;: [19169, 19300, 19392, 19295, 19080, 18883, 18911, 19023, 19069, 18809, 18869, 18612], &quot;type&quot;: &quot;line&quot;, &quot;name&quot;: &quot;2019&quot;}, {&quot;data&quot;: [18532, 18464, 18482, 18098, 17962, 17825, 18060, 18129, 18149, 18163, 18156, 18292], &quot;type&quot;: &quot;line&quot;, &quot;name&quot;: &quot;2020&quot;}, {&quot;data&quot;: [18193, 18324, 18519, 18762, 18966, 19021, 19007, 19237, 19339, 19466, 19605, 19630], &quot;type&quot;: &quot;line&quot;, &quot;name&quot;: &quot;2021&quot;}, {&quot;data&quot;: [19511, 19636, 19919], &quot;type&quot;: &quot;line&quot;, &quot;name&quot;: &quot;2022&quot;}]; var dataLen = data.length; for (var ix = 0; ix &lt; dataLen; ix++) { chart.addSeries(data[ix]); } }); &lt;/script&gt; &lt;/body&gt; &lt;/html&gt;\" height=400 width=750></iframe>"
      ],
      "text/plain": [
       "<highcharts.highcharts.highcharts.Highchart at 0x29148a30790>"
      ]
     },
     "execution_count": 11,
     "metadata": {},
     "output_type": "execute_result"
    }
   ],
   "source": [
    "hchart('D', anios)"
   ]
  },
  {
   "cell_type": "markdown",
   "metadata": {},
   "source": [
    "<a id = 'E'></a>\n",
    "**Empleo registrado** <br>\n",
    "**CIIU E: Distribución de agua; alcantarillado, gestión de desechos y actividades de saneamiento**\n",
    "\n",
    "[Regresar](#seleccion_emp)"
   ]
  },
  {
   "cell_type": "code",
   "execution_count": 12,
   "metadata": {},
   "outputs": [
    {
     "data": {
      "text/html": [
       "<iframe style=\"border:0;outline:none;overflow:hidden\" srcdoc=\"&lt;!DOCTYPE html&gt; &lt;html lang=&quot;en&quot;&gt; &lt;head&gt; &lt;meta charset=&quot;utf-8&quot; /&gt; &lt;link href=&quot;https://www.highcharts.com/highslide/highslide.css&quot; rel=&quot;stylesheet&quot; /&gt; &lt;script type=&quot;text/javascript&quot; src=&quot;https://ajax.googleapis.com/ajax/libs/jquery/1.9.1/jquery.min.js&quot;&gt;&lt;/script&gt; &lt;script type=&quot;text/javascript&quot; src=&quot;https://code.highcharts.com/6/highcharts.js&quot;&gt;&lt;/script&gt; &lt;script type=&quot;text/javascript&quot; src=&quot;https://code.highcharts.com/6/highcharts-more.js&quot;&gt;&lt;/script&gt; &lt;script type=&quot;text/javascript&quot; src=&quot;https://code.highcharts.com/6/modules/heatmap.js&quot;&gt;&lt;/script&gt; &lt;script type=&quot;text/javascript&quot; src=&quot;https://code.highcharts.com/6/modules/exporting.js&quot;&gt;&lt;/script&gt; &lt;/head&gt; &lt;body style=&quot;margin:0;padding:0&quot;&gt; &lt;div id=&quot;container&quot; style=&quot;width:750px;height:400px;&quot;&gt;Loading....&lt;/div&gt; &lt;script&gt; $(function(){ Highcharts.setOptions({&quot;global&quot;: {}, &quot;lang&quot;: {}}); var option = {&quot;chart&quot;: {&quot;renderTo&quot;: &quot;container&quot;, &quot;width&quot;: 750, &quot;height&quot;: 400}, &quot;colors&quot;: [&quot;#1E4976&quot;, &quot;#5FA3BF&quot;, &quot;#BBBE64&quot;, &quot;#EFCB68&quot;, &quot;#E5825E&quot;, &quot;#D05022&quot;], &quot;credits&quot;: {&quot;enabled&quot;: false}, &quot;drilldown&quot;: {}, &quot;exporting&quot;: {}, &quot;labels&quot;: {}, &quot;legend&quot;: {}, &quot;loading&quot;: {}, &quot;navigation&quot;: {}, &quot;pane&quot;: {}, &quot;plotOptions&quot;: {&quot;line&quot;: {&quot;marker&quot;: {&quot;lineWidth&quot;: 2, &quot;symbol&quot;: &quot;circle&quot;}}}, &quot;series&quot;: {}, &quot;subtitle&quot;: {&quot;text&quot;: &quot;Ventas locales: Formulario 104 SRI&quot;, &quot;style&quot;: {&quot;fontSize&quot;: &quot;12px&quot;, &quot;fontWeight&quot;: &quot;bold&quot;}}, &quot;title&quot;: {&quot;text&quot;: [&quot;Distribuci\\u00f3n de agua; alcantarillado, gesti\\u00f3n de desechos y actividades de saneamiento&quot;], &quot;style&quot;: {&quot;fontSize&quot;: &quot;14px&quot;, &quot;fontWeight&quot;: &quot;bold&quot;}}, &quot;tooltip&quot;: {&quot;formatter&quot;: function() { var ret = &#x27;&#x27;, multi, axis = this.series.yAxis, numericSymbols = [&#x27;k&#x27;, &#x27;M&#x27;, &#x27;G&#x27;, &#x27;T&#x27;, &#x27;P&#x27;, &#x27;E&#x27;], i = numericSymbols.length; while (i-- &amp;&amp; ret === &#x27;&#x27;) { multi = Math.pow(1000, i + 1); if (axis.tickInterval &gt;= multi &amp;&amp; numericSymbols[i] !== null) { ret = Highcharts.numberFormat(this.y / multi, 1) + numericSymbols[i]; } } return ret; }}, &quot;xAxis&quot;: {&quot;categories&quot;: [1, 2, 3, 4, 5, 6, 7, 8, 9, 10, 11, 12]}, &quot;yAxis&quot;: {&quot;title&quot;: {&quot;text&quot;: &quot;Empleados&quot;, &quot;style&quot;: {&quot;fontWeight&quot;: &quot;bold&quot;}}}}; var chart = new Highcharts.Chart(option); var data = [{&quot;data&quot;: [20011, 19951, 20170, 20283, 20377, 20430, 20496, 20546, 20636, 20785, 20881, 20758], &quot;type&quot;: &quot;line&quot;, &quot;name&quot;: &quot;2018&quot;}, {&quot;data&quot;: [20598, 20688, 20807, 20874, 20893, 21028, 20973, 21050, 21197, 21237, 21551, 21545], &quot;type&quot;: &quot;line&quot;, &quot;name&quot;: &quot;2019&quot;}, {&quot;data&quot;: [21567, 21637, 21745, 21460, 21605, 22170, 22113, 21581, 21464, 21384, 21395, 21829], &quot;type&quot;: &quot;line&quot;, &quot;name&quot;: &quot;2020&quot;}, {&quot;data&quot;: [21893, 22165, 22220, 22140, 22218, 22316, 22406, 22545, 22609, 22636, 22496, 22498], &quot;type&quot;: &quot;line&quot;, &quot;name&quot;: &quot;2021&quot;}, {&quot;data&quot;: [22653, 23509, 23265], &quot;type&quot;: &quot;line&quot;, &quot;name&quot;: &quot;2022&quot;}]; var dataLen = data.length; for (var ix = 0; ix &lt; dataLen; ix++) { chart.addSeries(data[ix]); } }); &lt;/script&gt; &lt;/body&gt; &lt;/html&gt;\" height=400 width=750></iframe>"
      ],
      "text/plain": [
       "<highcharts.highcharts.highcharts.Highchart at 0x29148a30d60>"
      ]
     },
     "execution_count": 12,
     "metadata": {},
     "output_type": "execute_result"
    }
   ],
   "source": [
    "hchart('E', anios)"
   ]
  },
  {
   "cell_type": "markdown",
   "metadata": {},
   "source": [
    "<a id = 'F'></a>\n",
    "**Empleo registrado** <br>\n",
    "**CIIU F: Construcción**\n",
    "\n",
    "[Regresar](#seleccion_emp)"
   ]
  },
  {
   "cell_type": "code",
   "execution_count": 13,
   "metadata": {},
   "outputs": [
    {
     "data": {
      "text/html": [
       "<iframe style=\"border:0;outline:none;overflow:hidden\" srcdoc=\"&lt;!DOCTYPE html&gt; &lt;html lang=&quot;en&quot;&gt; &lt;head&gt; &lt;meta charset=&quot;utf-8&quot; /&gt; &lt;link href=&quot;https://www.highcharts.com/highslide/highslide.css&quot; rel=&quot;stylesheet&quot; /&gt; &lt;script type=&quot;text/javascript&quot; src=&quot;https://ajax.googleapis.com/ajax/libs/jquery/1.9.1/jquery.min.js&quot;&gt;&lt;/script&gt; &lt;script type=&quot;text/javascript&quot; src=&quot;https://code.highcharts.com/6/highcharts.js&quot;&gt;&lt;/script&gt; &lt;script type=&quot;text/javascript&quot; src=&quot;https://code.highcharts.com/6/highcharts-more.js&quot;&gt;&lt;/script&gt; &lt;script type=&quot;text/javascript&quot; src=&quot;https://code.highcharts.com/6/modules/heatmap.js&quot;&gt;&lt;/script&gt; &lt;script type=&quot;text/javascript&quot; src=&quot;https://code.highcharts.com/6/modules/exporting.js&quot;&gt;&lt;/script&gt; &lt;/head&gt; &lt;body style=&quot;margin:0;padding:0&quot;&gt; &lt;div id=&quot;container&quot; style=&quot;width:750px;height:400px;&quot;&gt;Loading....&lt;/div&gt; &lt;script&gt; $(function(){ Highcharts.setOptions({&quot;global&quot;: {}, &quot;lang&quot;: {}}); var option = {&quot;chart&quot;: {&quot;renderTo&quot;: &quot;container&quot;, &quot;width&quot;: 750, &quot;height&quot;: 400}, &quot;colors&quot;: [&quot;#1E4976&quot;, &quot;#5FA3BF&quot;, &quot;#BBBE64&quot;, &quot;#EFCB68&quot;, &quot;#E5825E&quot;, &quot;#D05022&quot;], &quot;credits&quot;: {&quot;enabled&quot;: false}, &quot;drilldown&quot;: {}, &quot;exporting&quot;: {}, &quot;labels&quot;: {}, &quot;legend&quot;: {}, &quot;loading&quot;: {}, &quot;navigation&quot;: {}, &quot;pane&quot;: {}, &quot;plotOptions&quot;: {&quot;line&quot;: {&quot;marker&quot;: {&quot;lineWidth&quot;: 2, &quot;symbol&quot;: &quot;circle&quot;}}}, &quot;series&quot;: {}, &quot;subtitle&quot;: {&quot;text&quot;: &quot;Ventas locales: Formulario 104 SRI&quot;, &quot;style&quot;: {&quot;fontSize&quot;: &quot;12px&quot;, &quot;fontWeight&quot;: &quot;bold&quot;}}, &quot;title&quot;: {&quot;text&quot;: [&quot;Construcci\\u00f3n&quot;], &quot;style&quot;: {&quot;fontSize&quot;: &quot;14px&quot;, &quot;fontWeight&quot;: &quot;bold&quot;}}, &quot;tooltip&quot;: {&quot;formatter&quot;: function() { var ret = &#x27;&#x27;, multi, axis = this.series.yAxis, numericSymbols = [&#x27;k&#x27;, &#x27;M&#x27;, &#x27;G&#x27;, &#x27;T&#x27;, &#x27;P&#x27;, &#x27;E&#x27;], i = numericSymbols.length; while (i-- &amp;&amp; ret === &#x27;&#x27;) { multi = Math.pow(1000, i + 1); if (axis.tickInterval &gt;= multi &amp;&amp; numericSymbols[i] !== null) { ret = Highcharts.numberFormat(this.y / multi, 1) + numericSymbols[i]; } } return ret; }}, &quot;xAxis&quot;: {&quot;categories&quot;: [1, 2, 3, 4, 5, 6, 7, 8, 9, 10, 11, 12]}, &quot;yAxis&quot;: {&quot;title&quot;: {&quot;text&quot;: &quot;Empleados&quot;, &quot;style&quot;: {&quot;fontWeight&quot;: &quot;bold&quot;}}}}; var chart = new Highcharts.Chart(option); var data = [{&quot;data&quot;: [109373, 108502, 109084, 109366, 109724, 109002, 109143, 109984, 109597, 110050, 109648, 106817], &quot;type&quot;: &quot;line&quot;, &quot;name&quot;: &quot;2018&quot;}, {&quot;data&quot;: [106136, 104526, 104101, 104362, 104348, 103493, 103643, 102671, 102379, 99938, 98944, 97275], &quot;type&quot;: &quot;line&quot;, &quot;name&quot;: &quot;2019&quot;}, {&quot;data&quot;: [98475, 98201, 95097, 78313, 74437, 78363, 81091, 81924, 81778, 83341, 84278, 83570], &quot;type&quot;: &quot;line&quot;, &quot;name&quot;: &quot;2020&quot;}, {&quot;data&quot;: [82605, 82258, 83253, 82953, 84067, 85686, 85771, 84899, 86090, 86939, 86627, 85283], &quot;type&quot;: &quot;line&quot;, &quot;name&quot;: &quot;2021&quot;}, {&quot;data&quot;: [84686, 84487, 85975], &quot;type&quot;: &quot;line&quot;, &quot;name&quot;: &quot;2022&quot;}]; var dataLen = data.length; for (var ix = 0; ix &lt; dataLen; ix++) { chart.addSeries(data[ix]); } }); &lt;/script&gt; &lt;/body&gt; &lt;/html&gt;\" height=400 width=750></iframe>"
      ],
      "text/plain": [
       "<highcharts.highcharts.highcharts.Highchart at 0x29148a9a550>"
      ]
     },
     "execution_count": 13,
     "metadata": {},
     "output_type": "execute_result"
    }
   ],
   "source": [
    "hchart('F', anios)"
   ]
  },
  {
   "cell_type": "markdown",
   "metadata": {},
   "source": [
    "<a id = 'G'></a>\n",
    "**Empleo registrado** <br>\n",
    "**CIIU G: Comercio al por mayor y al por menor; reparación de vehículos automotores y motocicletas**\n",
    "\n",
    "[Regresar](#seleccion_emp)"
   ]
  },
  {
   "cell_type": "code",
   "execution_count": 14,
   "metadata": {},
   "outputs": [
    {
     "data": {
      "text/html": [
       "<iframe style=\"border:0;outline:none;overflow:hidden\" srcdoc=\"&lt;!DOCTYPE html&gt; &lt;html lang=&quot;en&quot;&gt; &lt;head&gt; &lt;meta charset=&quot;utf-8&quot; /&gt; &lt;link href=&quot;https://www.highcharts.com/highslide/highslide.css&quot; rel=&quot;stylesheet&quot; /&gt; &lt;script type=&quot;text/javascript&quot; src=&quot;https://ajax.googleapis.com/ajax/libs/jquery/1.9.1/jquery.min.js&quot;&gt;&lt;/script&gt; &lt;script type=&quot;text/javascript&quot; src=&quot;https://code.highcharts.com/6/highcharts.js&quot;&gt;&lt;/script&gt; &lt;script type=&quot;text/javascript&quot; src=&quot;https://code.highcharts.com/6/highcharts-more.js&quot;&gt;&lt;/script&gt; &lt;script type=&quot;text/javascript&quot; src=&quot;https://code.highcharts.com/6/modules/heatmap.js&quot;&gt;&lt;/script&gt; &lt;script type=&quot;text/javascript&quot; src=&quot;https://code.highcharts.com/6/modules/exporting.js&quot;&gt;&lt;/script&gt; &lt;/head&gt; &lt;body style=&quot;margin:0;padding:0&quot;&gt; &lt;div id=&quot;container&quot; style=&quot;width:750px;height:400px;&quot;&gt;Loading....&lt;/div&gt; &lt;script&gt; $(function(){ Highcharts.setOptions({&quot;global&quot;: {}, &quot;lang&quot;: {}}); var option = {&quot;chart&quot;: {&quot;renderTo&quot;: &quot;container&quot;, &quot;width&quot;: 750, &quot;height&quot;: 400}, &quot;colors&quot;: [&quot;#1E4976&quot;, &quot;#5FA3BF&quot;, &quot;#BBBE64&quot;, &quot;#EFCB68&quot;, &quot;#E5825E&quot;, &quot;#D05022&quot;], &quot;credits&quot;: {&quot;enabled&quot;: false}, &quot;drilldown&quot;: {}, &quot;exporting&quot;: {}, &quot;labels&quot;: {}, &quot;legend&quot;: {}, &quot;loading&quot;: {}, &quot;navigation&quot;: {}, &quot;pane&quot;: {}, &quot;plotOptions&quot;: {&quot;line&quot;: {&quot;marker&quot;: {&quot;lineWidth&quot;: 2, &quot;symbol&quot;: &quot;circle&quot;}}}, &quot;series&quot;: {}, &quot;subtitle&quot;: {&quot;text&quot;: &quot;Ventas locales: Formulario 104 SRI&quot;, &quot;style&quot;: {&quot;fontSize&quot;: &quot;12px&quot;, &quot;fontWeight&quot;: &quot;bold&quot;}}, &quot;title&quot;: {&quot;text&quot;: [&quot;Comercio al por mayor y al por menor; reparaci\\u00f3n de veh\\u00edculos automotores y motocicletas&quot;], &quot;style&quot;: {&quot;fontSize&quot;: &quot;14px&quot;, &quot;fontWeight&quot;: &quot;bold&quot;}}, &quot;tooltip&quot;: {&quot;formatter&quot;: function() { var ret = &#x27;&#x27;, multi, axis = this.series.yAxis, numericSymbols = [&#x27;k&#x27;, &#x27;M&#x27;, &#x27;G&#x27;, &#x27;T&#x27;, &#x27;P&#x27;, &#x27;E&#x27;], i = numericSymbols.length; while (i-- &amp;&amp; ret === &#x27;&#x27;) { multi = Math.pow(1000, i + 1); if (axis.tickInterval &gt;= multi &amp;&amp; numericSymbols[i] !== null) { ret = Highcharts.numberFormat(this.y / multi, 1) + numericSymbols[i]; } } return ret; }}, &quot;xAxis&quot;: {&quot;categories&quot;: [1, 2, 3, 4, 5, 6, 7, 8, 9, 10, 11, 12]}, &quot;yAxis&quot;: {&quot;title&quot;: {&quot;text&quot;: &quot;Empleados&quot;, &quot;style&quot;: {&quot;fontWeight&quot;: &quot;bold&quot;}}}}; var chart = new Highcharts.Chart(option); var data = [{&quot;data&quot;: [496174, 495887, 499044, 501283, 502544, 503156, 504850, 507559, 509989, 513052, 516918, 515776], &quot;type&quot;: &quot;line&quot;, &quot;name&quot;: &quot;2018&quot;}, {&quot;data&quot;: [512938, 512563, 514001, 516162, 516279, 515390, 516316, 517437, 519263, 519610, 524365, 523203], &quot;type&quot;: &quot;line&quot;, &quot;name&quot;: &quot;2019&quot;}, {&quot;data&quot;: [521409, 519310, 516359, 501386, 484553, 473514, 470248, 469450, 472474, 476232, 481158, 482997], &quot;type&quot;: &quot;line&quot;, &quot;name&quot;: &quot;2020&quot;}, {&quot;data&quot;: [480620, 480384, 483324, 484627, 486097, 488918, 491248, 494437, 497961, 500629, 505335, 506152], &quot;type&quot;: &quot;line&quot;, &quot;name&quot;: &quot;2021&quot;}, {&quot;data&quot;: [505680, 505229, 507601], &quot;type&quot;: &quot;line&quot;, &quot;name&quot;: &quot;2022&quot;}]; var dataLen = data.length; for (var ix = 0; ix &lt; dataLen; ix++) { chart.addSeries(data[ix]); } }); &lt;/script&gt; &lt;/body&gt; &lt;/html&gt;\" height=400 width=750></iframe>"
      ],
      "text/plain": [
       "<highcharts.highcharts.highcharts.Highchart at 0x29148a97400>"
      ]
     },
     "execution_count": 14,
     "metadata": {},
     "output_type": "execute_result"
    }
   ],
   "source": [
    "hchart('G', anios)"
   ]
  },
  {
   "cell_type": "markdown",
   "metadata": {},
   "source": [
    "<a id = 'H'></a>\n",
    "**Empleo registrado** <br>\n",
    "**CIIU H: Transporte y almacenamiento**\n",
    "\n",
    "[Regresar](#seleccion_emp)"
   ]
  },
  {
   "cell_type": "code",
   "execution_count": 15,
   "metadata": {},
   "outputs": [
    {
     "data": {
      "text/html": [
       "<iframe style=\"border:0;outline:none;overflow:hidden\" srcdoc=\"&lt;!DOCTYPE html&gt; &lt;html lang=&quot;en&quot;&gt; &lt;head&gt; &lt;meta charset=&quot;utf-8&quot; /&gt; &lt;link href=&quot;https://www.highcharts.com/highslide/highslide.css&quot; rel=&quot;stylesheet&quot; /&gt; &lt;script type=&quot;text/javascript&quot; src=&quot;https://ajax.googleapis.com/ajax/libs/jquery/1.9.1/jquery.min.js&quot;&gt;&lt;/script&gt; &lt;script type=&quot;text/javascript&quot; src=&quot;https://code.highcharts.com/6/highcharts.js&quot;&gt;&lt;/script&gt; &lt;script type=&quot;text/javascript&quot; src=&quot;https://code.highcharts.com/6/highcharts-more.js&quot;&gt;&lt;/script&gt; &lt;script type=&quot;text/javascript&quot; src=&quot;https://code.highcharts.com/6/modules/heatmap.js&quot;&gt;&lt;/script&gt; &lt;script type=&quot;text/javascript&quot; src=&quot;https://code.highcharts.com/6/modules/exporting.js&quot;&gt;&lt;/script&gt; &lt;/head&gt; &lt;body style=&quot;margin:0;padding:0&quot;&gt; &lt;div id=&quot;container&quot; style=&quot;width:750px;height:400px;&quot;&gt;Loading....&lt;/div&gt; &lt;script&gt; $(function(){ Highcharts.setOptions({&quot;global&quot;: {}, &quot;lang&quot;: {}}); var option = {&quot;chart&quot;: {&quot;renderTo&quot;: &quot;container&quot;, &quot;width&quot;: 750, &quot;height&quot;: 400}, &quot;colors&quot;: [&quot;#1E4976&quot;, &quot;#5FA3BF&quot;, &quot;#BBBE64&quot;, &quot;#EFCB68&quot;, &quot;#E5825E&quot;, &quot;#D05022&quot;], &quot;credits&quot;: {&quot;enabled&quot;: false}, &quot;drilldown&quot;: {}, &quot;exporting&quot;: {}, &quot;labels&quot;: {}, &quot;legend&quot;: {}, &quot;loading&quot;: {}, &quot;navigation&quot;: {}, &quot;pane&quot;: {}, &quot;plotOptions&quot;: {&quot;line&quot;: {&quot;marker&quot;: {&quot;lineWidth&quot;: 2, &quot;symbol&quot;: &quot;circle&quot;}}}, &quot;series&quot;: {}, &quot;subtitle&quot;: {&quot;text&quot;: &quot;Ventas locales: Formulario 104 SRI&quot;, &quot;style&quot;: {&quot;fontSize&quot;: &quot;12px&quot;, &quot;fontWeight&quot;: &quot;bold&quot;}}, &quot;title&quot;: {&quot;text&quot;: [&quot;Transporte y almacenamiento&quot;], &quot;style&quot;: {&quot;fontSize&quot;: &quot;14px&quot;, &quot;fontWeight&quot;: &quot;bold&quot;}}, &quot;tooltip&quot;: {&quot;formatter&quot;: function() { var ret = &#x27;&#x27;, multi, axis = this.series.yAxis, numericSymbols = [&#x27;k&#x27;, &#x27;M&#x27;, &#x27;G&#x27;, &#x27;T&#x27;, &#x27;P&#x27;, &#x27;E&#x27;], i = numericSymbols.length; while (i-- &amp;&amp; ret === &#x27;&#x27;) { multi = Math.pow(1000, i + 1); if (axis.tickInterval &gt;= multi &amp;&amp; numericSymbols[i] !== null) { ret = Highcharts.numberFormat(this.y / multi, 1) + numericSymbols[i]; } } return ret; }}, &quot;xAxis&quot;: {&quot;categories&quot;: [1, 2, 3, 4, 5, 6, 7, 8, 9, 10, 11, 12]}, &quot;yAxis&quot;: {&quot;title&quot;: {&quot;text&quot;: &quot;Empleados&quot;, &quot;style&quot;: {&quot;fontWeight&quot;: &quot;bold&quot;}}}}; var chart = new Highcharts.Chart(option); var data = [{&quot;data&quot;: [147734, 147622, 148352, 148737, 149129, 149642, 149926, 150373, 150850, 151679, 151983, 151413], &quot;type&quot;: &quot;line&quot;, &quot;name&quot;: &quot;2018&quot;}, {&quot;data&quot;: [151785, 151732, 152207, 152727, 152942, 152861, 152793, 152330, 152778, 152402, 152492, 151861], &quot;type&quot;: &quot;line&quot;, &quot;name&quot;: &quot;2019&quot;}, {&quot;data&quot;: [152670, 152281, 151255, 146368, 141317, 137311, 134836, 132950, 131974, 131982, 132182, 131463], &quot;type&quot;: &quot;line&quot;, &quot;name&quot;: &quot;2020&quot;}, {&quot;data&quot;: [131200, 132410, 132967, 132489, 132450, 132768, 132626, 132653, 133120, 133697, 134106, 133825], &quot;type&quot;: &quot;line&quot;, &quot;name&quot;: &quot;2021&quot;}, {&quot;data&quot;: [134842, 134612, 135105], &quot;type&quot;: &quot;line&quot;, &quot;name&quot;: &quot;2022&quot;}]; var dataLen = data.length; for (var ix = 0; ix &lt; dataLen; ix++) { chart.addSeries(data[ix]); } }); &lt;/script&gt; &lt;/body&gt; &lt;/html&gt;\" height=400 width=750></iframe>"
      ],
      "text/plain": [
       "<highcharts.highcharts.highcharts.Highchart at 0x29148a30eb0>"
      ]
     },
     "execution_count": 15,
     "metadata": {},
     "output_type": "execute_result"
    }
   ],
   "source": [
    "hchart('H', anios)"
   ]
  },
  {
   "cell_type": "markdown",
   "metadata": {},
   "source": [
    "<a id = 'I'></a>\n",
    "**Empleo registrado** <br>\n",
    "**CIIU I: Actividades de alojamiento y de servicio de comidas**\n",
    "\n",
    "[Regresar](#seleccion_emp)"
   ]
  },
  {
   "cell_type": "code",
   "execution_count": 16,
   "metadata": {},
   "outputs": [
    {
     "data": {
      "text/html": [
       "<iframe style=\"border:0;outline:none;overflow:hidden\" srcdoc=\"&lt;!DOCTYPE html&gt; &lt;html lang=&quot;en&quot;&gt; &lt;head&gt; &lt;meta charset=&quot;utf-8&quot; /&gt; &lt;link href=&quot;https://www.highcharts.com/highslide/highslide.css&quot; rel=&quot;stylesheet&quot; /&gt; &lt;script type=&quot;text/javascript&quot; src=&quot;https://ajax.googleapis.com/ajax/libs/jquery/1.9.1/jquery.min.js&quot;&gt;&lt;/script&gt; &lt;script type=&quot;text/javascript&quot; src=&quot;https://code.highcharts.com/6/highcharts.js&quot;&gt;&lt;/script&gt; &lt;script type=&quot;text/javascript&quot; src=&quot;https://code.highcharts.com/6/highcharts-more.js&quot;&gt;&lt;/script&gt; &lt;script type=&quot;text/javascript&quot; src=&quot;https://code.highcharts.com/6/modules/heatmap.js&quot;&gt;&lt;/script&gt; &lt;script type=&quot;text/javascript&quot; src=&quot;https://code.highcharts.com/6/modules/exporting.js&quot;&gt;&lt;/script&gt; &lt;/head&gt; &lt;body style=&quot;margin:0;padding:0&quot;&gt; &lt;div id=&quot;container&quot; style=&quot;width:750px;height:400px;&quot;&gt;Loading....&lt;/div&gt; &lt;script&gt; $(function(){ Highcharts.setOptions({&quot;global&quot;: {}, &quot;lang&quot;: {}}); var option = {&quot;chart&quot;: {&quot;renderTo&quot;: &quot;container&quot;, &quot;width&quot;: 750, &quot;height&quot;: 400}, &quot;colors&quot;: [&quot;#1E4976&quot;, &quot;#5FA3BF&quot;, &quot;#BBBE64&quot;, &quot;#EFCB68&quot;, &quot;#E5825E&quot;, &quot;#D05022&quot;], &quot;credits&quot;: {&quot;enabled&quot;: false}, &quot;drilldown&quot;: {}, &quot;exporting&quot;: {}, &quot;labels&quot;: {}, &quot;legend&quot;: {}, &quot;loading&quot;: {}, &quot;navigation&quot;: {}, &quot;pane&quot;: {}, &quot;plotOptions&quot;: {&quot;line&quot;: {&quot;marker&quot;: {&quot;lineWidth&quot;: 2, &quot;symbol&quot;: &quot;circle&quot;}}}, &quot;series&quot;: {}, &quot;subtitle&quot;: {&quot;text&quot;: &quot;Ventas locales: Formulario 104 SRI&quot;, &quot;style&quot;: {&quot;fontSize&quot;: &quot;12px&quot;, &quot;fontWeight&quot;: &quot;bold&quot;}}, &quot;title&quot;: {&quot;text&quot;: [&quot;Actividades de alojamiento y de servicio de comidas&quot;], &quot;style&quot;: {&quot;fontSize&quot;: &quot;14px&quot;, &quot;fontWeight&quot;: &quot;bold&quot;}}, &quot;tooltip&quot;: {&quot;formatter&quot;: function() { var ret = &#x27;&#x27;, multi, axis = this.series.yAxis, numericSymbols = [&#x27;k&#x27;, &#x27;M&#x27;, &#x27;G&#x27;, &#x27;T&#x27;, &#x27;P&#x27;, &#x27;E&#x27;], i = numericSymbols.length; while (i-- &amp;&amp; ret === &#x27;&#x27;) { multi = Math.pow(1000, i + 1); if (axis.tickInterval &gt;= multi &amp;&amp; numericSymbols[i] !== null) { ret = Highcharts.numberFormat(this.y / multi, 1) + numericSymbols[i]; } } return ret; }}, &quot;xAxis&quot;: {&quot;categories&quot;: [1, 2, 3, 4, 5, 6, 7, 8, 9, 10, 11, 12]}, &quot;yAxis&quot;: {&quot;title&quot;: {&quot;text&quot;: &quot;Empleados&quot;, &quot;style&quot;: {&quot;fontWeight&quot;: &quot;bold&quot;}}}}; var chart = new Highcharts.Chart(option); var data = [{&quot;data&quot;: [117070, 116617, 117145, 117386, 117851, 118360, 118541, 118915, 119423, 119788, 119964, 119576], &quot;type&quot;: &quot;line&quot;, &quot;name&quot;: &quot;2018&quot;}, {&quot;data&quot;: [120909, 120509, 120628, 121087, 121461, 121460, 122172, 122125, 122516, 122091, 122093, 121860], &quot;type&quot;: &quot;line&quot;, &quot;name&quot;: &quot;2019&quot;}, {&quot;data&quot;: [121626, 121166, 119059, 107795, 95649, 87239, 83543, 81391, 81027, 81271, 82032, 82406], &quot;type&quot;: &quot;line&quot;, &quot;name&quot;: &quot;2020&quot;}, {&quot;data&quot;: [82954, 83215, 84046, 84091, 84013, 85262, 86636, 88211, 89935, 91121, 92303, 92922], &quot;type&quot;: &quot;line&quot;, &quot;name&quot;: &quot;2021&quot;}, {&quot;data&quot;: [93012, 92921, 94437], &quot;type&quot;: &quot;line&quot;, &quot;name&quot;: &quot;2022&quot;}]; var dataLen = data.length; for (var ix = 0; ix &lt; dataLen; ix++) { chart.addSeries(data[ix]); } }); &lt;/script&gt; &lt;/body&gt; &lt;/html&gt;\" height=400 width=750></iframe>"
      ],
      "text/plain": [
       "<highcharts.highcharts.highcharts.Highchart at 0x29148ab89a0>"
      ]
     },
     "execution_count": 16,
     "metadata": {},
     "output_type": "execute_result"
    }
   ],
   "source": [
    "hchart('I', anios)"
   ]
  },
  {
   "cell_type": "markdown",
   "metadata": {},
   "source": [
    "<a id = 'J'></a>\n",
    "**Empleo registrado** <br>\n",
    "**CIIU J: Información y comunicación**\n",
    "\n",
    "[Regresar](#seleccion_emp)"
   ]
  },
  {
   "cell_type": "code",
   "execution_count": 17,
   "metadata": {},
   "outputs": [
    {
     "data": {
      "text/html": [
       "<iframe style=\"border:0;outline:none;overflow:hidden\" srcdoc=\"&lt;!DOCTYPE html&gt; &lt;html lang=&quot;en&quot;&gt; &lt;head&gt; &lt;meta charset=&quot;utf-8&quot; /&gt; &lt;link href=&quot;https://www.highcharts.com/highslide/highslide.css&quot; rel=&quot;stylesheet&quot; /&gt; &lt;script type=&quot;text/javascript&quot; src=&quot;https://ajax.googleapis.com/ajax/libs/jquery/1.9.1/jquery.min.js&quot;&gt;&lt;/script&gt; &lt;script type=&quot;text/javascript&quot; src=&quot;https://code.highcharts.com/6/highcharts.js&quot;&gt;&lt;/script&gt; &lt;script type=&quot;text/javascript&quot; src=&quot;https://code.highcharts.com/6/highcharts-more.js&quot;&gt;&lt;/script&gt; &lt;script type=&quot;text/javascript&quot; src=&quot;https://code.highcharts.com/6/modules/heatmap.js&quot;&gt;&lt;/script&gt; &lt;script type=&quot;text/javascript&quot; src=&quot;https://code.highcharts.com/6/modules/exporting.js&quot;&gt;&lt;/script&gt; &lt;/head&gt; &lt;body style=&quot;margin:0;padding:0&quot;&gt; &lt;div id=&quot;container&quot; style=&quot;width:750px;height:400px;&quot;&gt;Loading....&lt;/div&gt; &lt;script&gt; $(function(){ Highcharts.setOptions({&quot;global&quot;: {}, &quot;lang&quot;: {}}); var option = {&quot;chart&quot;: {&quot;renderTo&quot;: &quot;container&quot;, &quot;width&quot;: 750, &quot;height&quot;: 400}, &quot;colors&quot;: [&quot;#1E4976&quot;, &quot;#5FA3BF&quot;, &quot;#BBBE64&quot;, &quot;#EFCB68&quot;, &quot;#E5825E&quot;, &quot;#D05022&quot;], &quot;credits&quot;: {&quot;enabled&quot;: false}, &quot;drilldown&quot;: {}, &quot;exporting&quot;: {}, &quot;labels&quot;: {}, &quot;legend&quot;: {}, &quot;loading&quot;: {}, &quot;navigation&quot;: {}, &quot;pane&quot;: {}, &quot;plotOptions&quot;: {&quot;line&quot;: {&quot;marker&quot;: {&quot;lineWidth&quot;: 2, &quot;symbol&quot;: &quot;circle&quot;}}}, &quot;series&quot;: {}, &quot;subtitle&quot;: {&quot;text&quot;: &quot;Ventas locales: Formulario 104 SRI&quot;, &quot;style&quot;: {&quot;fontSize&quot;: &quot;12px&quot;, &quot;fontWeight&quot;: &quot;bold&quot;}}, &quot;title&quot;: {&quot;text&quot;: [&quot;Informaci\\u00f3n y comunicaci\\u00f3n&quot;], &quot;style&quot;: {&quot;fontSize&quot;: &quot;14px&quot;, &quot;fontWeight&quot;: &quot;bold&quot;}}, &quot;tooltip&quot;: {&quot;formatter&quot;: function() { var ret = &#x27;&#x27;, multi, axis = this.series.yAxis, numericSymbols = [&#x27;k&#x27;, &#x27;M&#x27;, &#x27;G&#x27;, &#x27;T&#x27;, &#x27;P&#x27;, &#x27;E&#x27;], i = numericSymbols.length; while (i-- &amp;&amp; ret === &#x27;&#x27;) { multi = Math.pow(1000, i + 1); if (axis.tickInterval &gt;= multi &amp;&amp; numericSymbols[i] !== null) { ret = Highcharts.numberFormat(this.y / multi, 1) + numericSymbols[i]; } } return ret; }}, &quot;xAxis&quot;: {&quot;categories&quot;: [1, 2, 3, 4, 5, 6, 7, 8, 9, 10, 11, 12]}, &quot;yAxis&quot;: {&quot;title&quot;: {&quot;text&quot;: &quot;Empleados&quot;, &quot;style&quot;: {&quot;fontWeight&quot;: &quot;bold&quot;}}}}; var chart = new Highcharts.Chart(option); var data = [{&quot;data&quot;: [51286, 51251, 51525, 51651, 51772, 51980, 52096, 52160, 52220, 52434, 52622, 52543], &quot;type&quot;: &quot;line&quot;, &quot;name&quot;: &quot;2018&quot;}, {&quot;data&quot;: [53065, 53139, 53298, 53312, 52699, 52359, 52188, 52049, 51963, 51885, 51864, 51704], &quot;type&quot;: &quot;line&quot;, &quot;name&quot;: &quot;2019&quot;}, {&quot;data&quot;: [51682, 51795, 51581, 50341, 49253, 48534, 48345, 48228, 48416, 48511, 48644, 48538], &quot;type&quot;: &quot;line&quot;, &quot;name&quot;: &quot;2020&quot;}, {&quot;data&quot;: [48464, 48593, 49103, 49259, 49415, 49877, 50081, 50122, 50380, 50739, 50812, 50906], &quot;type&quot;: &quot;line&quot;, &quot;name&quot;: &quot;2021&quot;}, {&quot;data&quot;: [50343, 50409, 50786], &quot;type&quot;: &quot;line&quot;, &quot;name&quot;: &quot;2022&quot;}]; var dataLen = data.length; for (var ix = 0; ix &lt; dataLen; ix++) { chart.addSeries(data[ix]); } }); &lt;/script&gt; &lt;/body&gt; &lt;/html&gt;\" height=400 width=750></iframe>"
      ],
      "text/plain": [
       "<highcharts.highcharts.highcharts.Highchart at 0x29148a972e0>"
      ]
     },
     "execution_count": 17,
     "metadata": {},
     "output_type": "execute_result"
    }
   ],
   "source": [
    "hchart('J', anios)"
   ]
  },
  {
   "cell_type": "markdown",
   "metadata": {},
   "source": [
    "<a id = 'K'></a>\n",
    "**Empleo registrado** <br>\n",
    "**CIIU K: Actividades financieras y de seguros**\n",
    "\n",
    "[Regresar](#seleccion_emp)"
   ]
  },
  {
   "cell_type": "code",
   "execution_count": 18,
   "metadata": {},
   "outputs": [
    {
     "data": {
      "text/html": [
       "<iframe style=\"border:0;outline:none;overflow:hidden\" srcdoc=\"&lt;!DOCTYPE html&gt; &lt;html lang=&quot;en&quot;&gt; &lt;head&gt; &lt;meta charset=&quot;utf-8&quot; /&gt; &lt;link href=&quot;https://www.highcharts.com/highslide/highslide.css&quot; rel=&quot;stylesheet&quot; /&gt; &lt;script type=&quot;text/javascript&quot; src=&quot;https://ajax.googleapis.com/ajax/libs/jquery/1.9.1/jquery.min.js&quot;&gt;&lt;/script&gt; &lt;script type=&quot;text/javascript&quot; src=&quot;https://code.highcharts.com/6/highcharts.js&quot;&gt;&lt;/script&gt; &lt;script type=&quot;text/javascript&quot; src=&quot;https://code.highcharts.com/6/highcharts-more.js&quot;&gt;&lt;/script&gt; &lt;script type=&quot;text/javascript&quot; src=&quot;https://code.highcharts.com/6/modules/heatmap.js&quot;&gt;&lt;/script&gt; &lt;script type=&quot;text/javascript&quot; src=&quot;https://code.highcharts.com/6/modules/exporting.js&quot;&gt;&lt;/script&gt; &lt;/head&gt; &lt;body style=&quot;margin:0;padding:0&quot;&gt; &lt;div id=&quot;container&quot; style=&quot;width:750px;height:400px;&quot;&gt;Loading....&lt;/div&gt; &lt;script&gt; $(function(){ Highcharts.setOptions({&quot;global&quot;: {}, &quot;lang&quot;: {}}); var option = {&quot;chart&quot;: {&quot;renderTo&quot;: &quot;container&quot;, &quot;width&quot;: 750, &quot;height&quot;: 400}, &quot;colors&quot;: [&quot;#1E4976&quot;, &quot;#5FA3BF&quot;, &quot;#BBBE64&quot;, &quot;#EFCB68&quot;, &quot;#E5825E&quot;, &quot;#D05022&quot;], &quot;credits&quot;: {&quot;enabled&quot;: false}, &quot;drilldown&quot;: {}, &quot;exporting&quot;: {}, &quot;labels&quot;: {}, &quot;legend&quot;: {}, &quot;loading&quot;: {}, &quot;navigation&quot;: {}, &quot;pane&quot;: {}, &quot;plotOptions&quot;: {&quot;line&quot;: {&quot;marker&quot;: {&quot;lineWidth&quot;: 2, &quot;symbol&quot;: &quot;circle&quot;}}}, &quot;series&quot;: {}, &quot;subtitle&quot;: {&quot;text&quot;: &quot;Ventas locales: Formulario 104 SRI&quot;, &quot;style&quot;: {&quot;fontSize&quot;: &quot;12px&quot;, &quot;fontWeight&quot;: &quot;bold&quot;}}, &quot;title&quot;: {&quot;text&quot;: [&quot;Actividades financieras y de seguros&quot;], &quot;style&quot;: {&quot;fontSize&quot;: &quot;14px&quot;, &quot;fontWeight&quot;: &quot;bold&quot;}}, &quot;tooltip&quot;: {&quot;formatter&quot;: function() { var ret = &#x27;&#x27;, multi, axis = this.series.yAxis, numericSymbols = [&#x27;k&#x27;, &#x27;M&#x27;, &#x27;G&#x27;, &#x27;T&#x27;, &#x27;P&#x27;, &#x27;E&#x27;], i = numericSymbols.length; while (i-- &amp;&amp; ret === &#x27;&#x27;) { multi = Math.pow(1000, i + 1); if (axis.tickInterval &gt;= multi &amp;&amp; numericSymbols[i] !== null) { ret = Highcharts.numberFormat(this.y / multi, 1) + numericSymbols[i]; } } return ret; }}, &quot;xAxis&quot;: {&quot;categories&quot;: [1, 2, 3, 4, 5, 6, 7, 8, 9, 10, 11, 12]}, &quot;yAxis&quot;: {&quot;title&quot;: {&quot;text&quot;: &quot;Empleados&quot;, &quot;style&quot;: {&quot;fontWeight&quot;: &quot;bold&quot;}}}}; var chart = new Highcharts.Chart(option); var data = [{&quot;data&quot;: [66423, 66595, 67131, 67537, 67954, 68358, 68724, 69025, 68900, 69113, 69183, 69256], &quot;type&quot;: &quot;line&quot;, &quot;name&quot;: &quot;2018&quot;}, {&quot;data&quot;: [69531, 69991, 70190, 70545, 70865, 71277, 71726, 72014, 72234, 72255, 72383, 72532], &quot;type&quot;: &quot;line&quot;, &quot;name&quot;: &quot;2019&quot;}, {&quot;data&quot;: [72644, 72786, 72775, 71243, 69474, 68405, 67901, 67795, 67709, 68021, 68338, 68702], &quot;type&quot;: &quot;line&quot;, &quot;name&quot;: &quot;2020&quot;}, {&quot;data&quot;: [69174, 69627, 70087, 70282, 70462, 70602, 70886, 71102, 70944, 70833, 70949, 70890], &quot;type&quot;: &quot;line&quot;, &quot;name&quot;: &quot;2021&quot;}, {&quot;data&quot;: [70774, 71011, 71360], &quot;type&quot;: &quot;line&quot;, &quot;name&quot;: &quot;2022&quot;}]; var dataLen = data.length; for (var ix = 0; ix &lt; dataLen; ix++) { chart.addSeries(data[ix]); } }); &lt;/script&gt; &lt;/body&gt; &lt;/html&gt;\" height=400 width=750></iframe>"
      ],
      "text/plain": [
       "<highcharts.highcharts.highcharts.Highchart at 0x29148acc4f0>"
      ]
     },
     "execution_count": 18,
     "metadata": {},
     "output_type": "execute_result"
    }
   ],
   "source": [
    "hchart('K', anios)"
   ]
  },
  {
   "cell_type": "markdown",
   "metadata": {},
   "source": [
    "<a id = 'L'></a>\n",
    "**Empleo registrado** <br>\n",
    "**CIIU L: Actividades inmobiliarias**\n",
    "\n",
    "[Regresar](#seleccion_emp)"
   ]
  },
  {
   "cell_type": "code",
   "execution_count": 19,
   "metadata": {},
   "outputs": [
    {
     "data": {
      "text/html": [
       "<iframe style=\"border:0;outline:none;overflow:hidden\" srcdoc=\"&lt;!DOCTYPE html&gt; &lt;html lang=&quot;en&quot;&gt; &lt;head&gt; &lt;meta charset=&quot;utf-8&quot; /&gt; &lt;link href=&quot;https://www.highcharts.com/highslide/highslide.css&quot; rel=&quot;stylesheet&quot; /&gt; &lt;script type=&quot;text/javascript&quot; src=&quot;https://ajax.googleapis.com/ajax/libs/jquery/1.9.1/jquery.min.js&quot;&gt;&lt;/script&gt; &lt;script type=&quot;text/javascript&quot; src=&quot;https://code.highcharts.com/6/highcharts.js&quot;&gt;&lt;/script&gt; &lt;script type=&quot;text/javascript&quot; src=&quot;https://code.highcharts.com/6/highcharts-more.js&quot;&gt;&lt;/script&gt; &lt;script type=&quot;text/javascript&quot; src=&quot;https://code.highcharts.com/6/modules/heatmap.js&quot;&gt;&lt;/script&gt; &lt;script type=&quot;text/javascript&quot; src=&quot;https://code.highcharts.com/6/modules/exporting.js&quot;&gt;&lt;/script&gt; &lt;/head&gt; &lt;body style=&quot;margin:0;padding:0&quot;&gt; &lt;div id=&quot;container&quot; style=&quot;width:750px;height:400px;&quot;&gt;Loading....&lt;/div&gt; &lt;script&gt; $(function(){ Highcharts.setOptions({&quot;global&quot;: {}, &quot;lang&quot;: {}}); var option = {&quot;chart&quot;: {&quot;renderTo&quot;: &quot;container&quot;, &quot;width&quot;: 750, &quot;height&quot;: 400}, &quot;colors&quot;: [&quot;#1E4976&quot;, &quot;#5FA3BF&quot;, &quot;#BBBE64&quot;, &quot;#EFCB68&quot;, &quot;#E5825E&quot;, &quot;#D05022&quot;], &quot;credits&quot;: {&quot;enabled&quot;: false}, &quot;drilldown&quot;: {}, &quot;exporting&quot;: {}, &quot;labels&quot;: {}, &quot;legend&quot;: {}, &quot;loading&quot;: {}, &quot;navigation&quot;: {}, &quot;pane&quot;: {}, &quot;plotOptions&quot;: {&quot;line&quot;: {&quot;marker&quot;: {&quot;lineWidth&quot;: 2, &quot;symbol&quot;: &quot;circle&quot;}}}, &quot;series&quot;: {}, &quot;subtitle&quot;: {&quot;text&quot;: &quot;Ventas locales: Formulario 104 SRI&quot;, &quot;style&quot;: {&quot;fontSize&quot;: &quot;12px&quot;, &quot;fontWeight&quot;: &quot;bold&quot;}}, &quot;title&quot;: {&quot;text&quot;: [&quot;Actividades inmobiliarias&quot;], &quot;style&quot;: {&quot;fontSize&quot;: &quot;14px&quot;, &quot;fontWeight&quot;: &quot;bold&quot;}}, &quot;tooltip&quot;: {&quot;formatter&quot;: function() { var ret = &#x27;&#x27;, multi, axis = this.series.yAxis, numericSymbols = [&#x27;k&#x27;, &#x27;M&#x27;, &#x27;G&#x27;, &#x27;T&#x27;, &#x27;P&#x27;, &#x27;E&#x27;], i = numericSymbols.length; while (i-- &amp;&amp; ret === &#x27;&#x27;) { multi = Math.pow(1000, i + 1); if (axis.tickInterval &gt;= multi &amp;&amp; numericSymbols[i] !== null) { ret = Highcharts.numberFormat(this.y / multi, 1) + numericSymbols[i]; } } return ret; }}, &quot;xAxis&quot;: {&quot;categories&quot;: [1, 2, 3, 4, 5, 6, 7, 8, 9, 10, 11, 12]}, &quot;yAxis&quot;: {&quot;title&quot;: {&quot;text&quot;: &quot;Empleados&quot;, &quot;style&quot;: {&quot;fontWeight&quot;: &quot;bold&quot;}}}}; var chart = new Highcharts.Chart(option); var data = [{&quot;data&quot;: [38187, 38040, 38012, 37972, 38011, 38113, 38138, 38056, 37939, 38043, 38061, 37880], &quot;type&quot;: &quot;line&quot;, &quot;name&quot;: &quot;2018&quot;}, {&quot;data&quot;: [38070, 37880, 37777, 37724, 37689, 37708, 37756, 37914, 38003, 37918, 37930, 37898], &quot;type&quot;: &quot;line&quot;, &quot;name&quot;: &quot;2019&quot;}, {&quot;data&quot;: [38136, 38111, 38129, 37086, 36137, 36026, 36154, 36227, 36499, 36706, 36554, 36192], &quot;type&quot;: &quot;line&quot;, &quot;name&quot;: &quot;2020&quot;}, {&quot;data&quot;: [36592, 36471, 36778, 37091, 37480, 37226, 36796, 36772, 36827, 36895, 37101, 37010], &quot;type&quot;: &quot;line&quot;, &quot;name&quot;: &quot;2021&quot;}, {&quot;data&quot;: [37109, 36964, 37157], &quot;type&quot;: &quot;line&quot;, &quot;name&quot;: &quot;2022&quot;}]; var dataLen = data.length; for (var ix = 0; ix &lt; dataLen; ix++) { chart.addSeries(data[ix]); } }); &lt;/script&gt; &lt;/body&gt; &lt;/html&gt;\" height=400 width=750></iframe>"
      ],
      "text/plain": [
       "<highcharts.highcharts.highcharts.Highchart at 0x29148acc190>"
      ]
     },
     "execution_count": 19,
     "metadata": {},
     "output_type": "execute_result"
    }
   ],
   "source": [
    "hchart('L', anios)"
   ]
  },
  {
   "cell_type": "markdown",
   "metadata": {},
   "source": [
    "<a id = 'M'></a>\n",
    "**Empleo registrado** <br>\n",
    "**CIIU M: Actividades profesionales, científicas y técnicas**\n",
    "\n",
    "[Regresar](#seleccion_emp)"
   ]
  },
  {
   "cell_type": "code",
   "execution_count": 20,
   "metadata": {},
   "outputs": [
    {
     "data": {
      "text/html": [
       "<iframe style=\"border:0;outline:none;overflow:hidden\" srcdoc=\"&lt;!DOCTYPE html&gt; &lt;html lang=&quot;en&quot;&gt; &lt;head&gt; &lt;meta charset=&quot;utf-8&quot; /&gt; &lt;link href=&quot;https://www.highcharts.com/highslide/highslide.css&quot; rel=&quot;stylesheet&quot; /&gt; &lt;script type=&quot;text/javascript&quot; src=&quot;https://ajax.googleapis.com/ajax/libs/jquery/1.9.1/jquery.min.js&quot;&gt;&lt;/script&gt; &lt;script type=&quot;text/javascript&quot; src=&quot;https://code.highcharts.com/6/highcharts.js&quot;&gt;&lt;/script&gt; &lt;script type=&quot;text/javascript&quot; src=&quot;https://code.highcharts.com/6/highcharts-more.js&quot;&gt;&lt;/script&gt; &lt;script type=&quot;text/javascript&quot; src=&quot;https://code.highcharts.com/6/modules/heatmap.js&quot;&gt;&lt;/script&gt; &lt;script type=&quot;text/javascript&quot; src=&quot;https://code.highcharts.com/6/modules/exporting.js&quot;&gt;&lt;/script&gt; &lt;/head&gt; &lt;body style=&quot;margin:0;padding:0&quot;&gt; &lt;div id=&quot;container&quot; style=&quot;width:750px;height:400px;&quot;&gt;Loading....&lt;/div&gt; &lt;script&gt; $(function(){ Highcharts.setOptions({&quot;global&quot;: {}, &quot;lang&quot;: {}}); var option = {&quot;chart&quot;: {&quot;renderTo&quot;: &quot;container&quot;, &quot;width&quot;: 750, &quot;height&quot;: 400}, &quot;colors&quot;: [&quot;#1E4976&quot;, &quot;#5FA3BF&quot;, &quot;#BBBE64&quot;, &quot;#EFCB68&quot;, &quot;#E5825E&quot;, &quot;#D05022&quot;], &quot;credits&quot;: {&quot;enabled&quot;: false}, &quot;drilldown&quot;: {}, &quot;exporting&quot;: {}, &quot;labels&quot;: {}, &quot;legend&quot;: {}, &quot;loading&quot;: {}, &quot;navigation&quot;: {}, &quot;pane&quot;: {}, &quot;plotOptions&quot;: {&quot;line&quot;: {&quot;marker&quot;: {&quot;lineWidth&quot;: 2, &quot;symbol&quot;: &quot;circle&quot;}}}, &quot;series&quot;: {}, &quot;subtitle&quot;: {&quot;text&quot;: &quot;Ventas locales: Formulario 104 SRI&quot;, &quot;style&quot;: {&quot;fontSize&quot;: &quot;12px&quot;, &quot;fontWeight&quot;: &quot;bold&quot;}}, &quot;title&quot;: {&quot;text&quot;: [&quot;Actividades profesionales, cient\\u00edficas y t\\u00e9cnicas&quot;], &quot;style&quot;: {&quot;fontSize&quot;: &quot;14px&quot;, &quot;fontWeight&quot;: &quot;bold&quot;}}, &quot;tooltip&quot;: {&quot;formatter&quot;: function() { var ret = &#x27;&#x27;, multi, axis = this.series.yAxis, numericSymbols = [&#x27;k&#x27;, &#x27;M&#x27;, &#x27;G&#x27;, &#x27;T&#x27;, &#x27;P&#x27;, &#x27;E&#x27;], i = numericSymbols.length; while (i-- &amp;&amp; ret === &#x27;&#x27;) { multi = Math.pow(1000, i + 1); if (axis.tickInterval &gt;= multi &amp;&amp; numericSymbols[i] !== null) { ret = Highcharts.numberFormat(this.y / multi, 1) + numericSymbols[i]; } } return ret; }}, &quot;xAxis&quot;: {&quot;categories&quot;: [1, 2, 3, 4, 5, 6, 7, 8, 9, 10, 11, 12]}, &quot;yAxis&quot;: {&quot;title&quot;: {&quot;text&quot;: &quot;Empleados&quot;, &quot;style&quot;: {&quot;fontWeight&quot;: &quot;bold&quot;}}}}; var chart = new Highcharts.Chart(option); var data = [{&quot;data&quot;: [140843, 139743, 140255, 139688, 139838, 140517, 140911, 141524, 142288, 142988, 143961, 143091], &quot;type&quot;: &quot;line&quot;, &quot;name&quot;: &quot;2018&quot;}, {&quot;data&quot;: [141931, 142918, 143217, 142022, 141182, 141033, 141019, 140805, 141081, 140810, 140969, 139822], &quot;type&quot;: &quot;line&quot;, &quot;name&quot;: &quot;2019&quot;}, {&quot;data&quot;: [138923, 139259, 137616, 129122, 124183, 125233, 126092, 126211, 127089, 128375, 129053, 129422], &quot;type&quot;: &quot;line&quot;, &quot;name&quot;: &quot;2020&quot;}, {&quot;data&quot;: [129545, 129969, 131294, 131701, 131942, 132443, 133616, 133956, 135400, 136862, 137461, 136941], &quot;type&quot;: &quot;line&quot;, &quot;name&quot;: &quot;2021&quot;}, {&quot;data&quot;: [137269, 138855, 140770], &quot;type&quot;: &quot;line&quot;, &quot;name&quot;: &quot;2022&quot;}]; var dataLen = data.length; for (var ix = 0; ix &lt; dataLen; ix++) { chart.addSeries(data[ix]); } }); &lt;/script&gt; &lt;/body&gt; &lt;/html&gt;\" height=400 width=750></iframe>"
      ],
      "text/plain": [
       "<highcharts.highcharts.highcharts.Highchart at 0x29148a9af10>"
      ]
     },
     "execution_count": 20,
     "metadata": {},
     "output_type": "execute_result"
    }
   ],
   "source": [
    "hchart('M', anios)"
   ]
  },
  {
   "cell_type": "markdown",
   "metadata": {},
   "source": [
    "<a id = 'N'></a>\n",
    "**Empleo registrado** <br>\n",
    "**CIIU N: Actividades de servicios administrativos y de apoyo**\n",
    "\n",
    "[Regresar](#seleccion_emp)"
   ]
  },
  {
   "cell_type": "code",
   "execution_count": 21,
   "metadata": {},
   "outputs": [
    {
     "data": {
      "text/html": [
       "<iframe style=\"border:0;outline:none;overflow:hidden\" srcdoc=\"&lt;!DOCTYPE html&gt; &lt;html lang=&quot;en&quot;&gt; &lt;head&gt; &lt;meta charset=&quot;utf-8&quot; /&gt; &lt;link href=&quot;https://www.highcharts.com/highslide/highslide.css&quot; rel=&quot;stylesheet&quot; /&gt; &lt;script type=&quot;text/javascript&quot; src=&quot;https://ajax.googleapis.com/ajax/libs/jquery/1.9.1/jquery.min.js&quot;&gt;&lt;/script&gt; &lt;script type=&quot;text/javascript&quot; src=&quot;https://code.highcharts.com/6/highcharts.js&quot;&gt;&lt;/script&gt; &lt;script type=&quot;text/javascript&quot; src=&quot;https://code.highcharts.com/6/highcharts-more.js&quot;&gt;&lt;/script&gt; &lt;script type=&quot;text/javascript&quot; src=&quot;https://code.highcharts.com/6/modules/heatmap.js&quot;&gt;&lt;/script&gt; &lt;script type=&quot;text/javascript&quot; src=&quot;https://code.highcharts.com/6/modules/exporting.js&quot;&gt;&lt;/script&gt; &lt;/head&gt; &lt;body style=&quot;margin:0;padding:0&quot;&gt; &lt;div id=&quot;container&quot; style=&quot;width:750px;height:400px;&quot;&gt;Loading....&lt;/div&gt; &lt;script&gt; $(function(){ Highcharts.setOptions({&quot;global&quot;: {}, &quot;lang&quot;: {}}); var option = {&quot;chart&quot;: {&quot;renderTo&quot;: &quot;container&quot;, &quot;width&quot;: 750, &quot;height&quot;: 400}, &quot;colors&quot;: [&quot;#1E4976&quot;, &quot;#5FA3BF&quot;, &quot;#BBBE64&quot;, &quot;#EFCB68&quot;, &quot;#E5825E&quot;, &quot;#D05022&quot;], &quot;credits&quot;: {&quot;enabled&quot;: false}, &quot;drilldown&quot;: {}, &quot;exporting&quot;: {}, &quot;labels&quot;: {}, &quot;legend&quot;: {}, &quot;loading&quot;: {}, &quot;navigation&quot;: {}, &quot;pane&quot;: {}, &quot;plotOptions&quot;: {&quot;line&quot;: {&quot;marker&quot;: {&quot;lineWidth&quot;: 2, &quot;symbol&quot;: &quot;circle&quot;}}}, &quot;series&quot;: {}, &quot;subtitle&quot;: {&quot;text&quot;: &quot;Ventas locales: Formulario 104 SRI&quot;, &quot;style&quot;: {&quot;fontSize&quot;: &quot;12px&quot;, &quot;fontWeight&quot;: &quot;bold&quot;}}, &quot;title&quot;: {&quot;text&quot;: [&quot;Actividades de servicios administrativos y de apoyo&quot;], &quot;style&quot;: {&quot;fontSize&quot;: &quot;14px&quot;, &quot;fontWeight&quot;: &quot;bold&quot;}}, &quot;tooltip&quot;: {&quot;formatter&quot;: function() { var ret = &#x27;&#x27;, multi, axis = this.series.yAxis, numericSymbols = [&#x27;k&#x27;, &#x27;M&#x27;, &#x27;G&#x27;, &#x27;T&#x27;, &#x27;P&#x27;, &#x27;E&#x27;], i = numericSymbols.length; while (i-- &amp;&amp; ret === &#x27;&#x27;) { multi = Math.pow(1000, i + 1); if (axis.tickInterval &gt;= multi &amp;&amp; numericSymbols[i] !== null) { ret = Highcharts.numberFormat(this.y / multi, 1) + numericSymbols[i]; } } return ret; }}, &quot;xAxis&quot;: {&quot;categories&quot;: [1, 2, 3, 4, 5, 6, 7, 8, 9, 10, 11, 12]}, &quot;yAxis&quot;: {&quot;title&quot;: {&quot;text&quot;: &quot;Empleados&quot;, &quot;style&quot;: {&quot;fontWeight&quot;: &quot;bold&quot;}}}}; var chart = new Highcharts.Chart(option); var data = [{&quot;data&quot;: [148198, 148364, 149879, 151137, 152182, 152821, 153046, 154322, 154129, 155559, 155402, 155214], &quot;type&quot;: &quot;line&quot;, &quot;name&quot;: &quot;2018&quot;}, {&quot;data&quot;: [153018, 150927, 150768, 152586, 153145, 153325, 154210, 153731, 154220, 154187, 154935, 154365], &quot;type&quot;: &quot;line&quot;, &quot;name&quot;: &quot;2019&quot;}, {&quot;data&quot;: [153715, 151687, 151716, 143461, 137335, 136521, 136337, 134887, 134651, 136068, 137044, 136621], &quot;type&quot;: &quot;line&quot;, &quot;name&quot;: &quot;2020&quot;}, {&quot;data&quot;: [137071, 135146, 136003, 136457, 138420, 140058, 140252, 141163, 141516, 142871, 143423, 144880], &quot;type&quot;: &quot;line&quot;, &quot;name&quot;: &quot;2021&quot;}, {&quot;data&quot;: [145481, 144756, 145702], &quot;type&quot;: &quot;line&quot;, &quot;name&quot;: &quot;2022&quot;}]; var dataLen = data.length; for (var ix = 0; ix &lt; dataLen; ix++) { chart.addSeries(data[ix]); } }); &lt;/script&gt; &lt;/body&gt; &lt;/html&gt;\" height=400 width=750></iframe>"
      ],
      "text/plain": [
       "<highcharts.highcharts.highcharts.Highchart at 0x29148ad1a00>"
      ]
     },
     "execution_count": 21,
     "metadata": {},
     "output_type": "execute_result"
    }
   ],
   "source": [
    "hchart('N', anios)"
   ]
  },
  {
   "cell_type": "markdown",
   "metadata": {},
   "source": [
    "<a id = 'O'></a>\n",
    "**Empleo registrado** <br>\n",
    "**CIIU O: Administración pública y defensa; planes de seguridad social de afiliación obligatoria**\n",
    "\n",
    "[Regresar](#seleccion_emp)"
   ]
  },
  {
   "cell_type": "code",
   "execution_count": 22,
   "metadata": {},
   "outputs": [
    {
     "data": {
      "text/html": [
       "<iframe style=\"border:0;outline:none;overflow:hidden\" srcdoc=\"&lt;!DOCTYPE html&gt; &lt;html lang=&quot;en&quot;&gt; &lt;head&gt; &lt;meta charset=&quot;utf-8&quot; /&gt; &lt;link href=&quot;https://www.highcharts.com/highslide/highslide.css&quot; rel=&quot;stylesheet&quot; /&gt; &lt;script type=&quot;text/javascript&quot; src=&quot;https://ajax.googleapis.com/ajax/libs/jquery/1.9.1/jquery.min.js&quot;&gt;&lt;/script&gt; &lt;script type=&quot;text/javascript&quot; src=&quot;https://code.highcharts.com/6/highcharts.js&quot;&gt;&lt;/script&gt; &lt;script type=&quot;text/javascript&quot; src=&quot;https://code.highcharts.com/6/highcharts-more.js&quot;&gt;&lt;/script&gt; &lt;script type=&quot;text/javascript&quot; src=&quot;https://code.highcharts.com/6/modules/heatmap.js&quot;&gt;&lt;/script&gt; &lt;script type=&quot;text/javascript&quot; src=&quot;https://code.highcharts.com/6/modules/exporting.js&quot;&gt;&lt;/script&gt; &lt;/head&gt; &lt;body style=&quot;margin:0;padding:0&quot;&gt; &lt;div id=&quot;container&quot; style=&quot;width:750px;height:400px;&quot;&gt;Loading....&lt;/div&gt; &lt;script&gt; $(function(){ Highcharts.setOptions({&quot;global&quot;: {}, &quot;lang&quot;: {}}); var option = {&quot;chart&quot;: {&quot;renderTo&quot;: &quot;container&quot;, &quot;width&quot;: 750, &quot;height&quot;: 400}, &quot;colors&quot;: [&quot;#1E4976&quot;, &quot;#5FA3BF&quot;, &quot;#BBBE64&quot;, &quot;#EFCB68&quot;, &quot;#E5825E&quot;, &quot;#D05022&quot;], &quot;credits&quot;: {&quot;enabled&quot;: false}, &quot;drilldown&quot;: {}, &quot;exporting&quot;: {}, &quot;labels&quot;: {}, &quot;legend&quot;: {}, &quot;loading&quot;: {}, &quot;navigation&quot;: {}, &quot;pane&quot;: {}, &quot;plotOptions&quot;: {&quot;line&quot;: {&quot;marker&quot;: {&quot;lineWidth&quot;: 2, &quot;symbol&quot;: &quot;circle&quot;}}}, &quot;series&quot;: {}, &quot;subtitle&quot;: {&quot;text&quot;: &quot;Ventas locales: Formulario 104 SRI&quot;, &quot;style&quot;: {&quot;fontSize&quot;: &quot;12px&quot;, &quot;fontWeight&quot;: &quot;bold&quot;}}, &quot;title&quot;: {&quot;text&quot;: [&quot;Administraci\\u00f3n p\\u00fablica y defensa; planes de seguridad social de afiliaci\\u00f3n obligatoria&quot;], &quot;style&quot;: {&quot;fontSize&quot;: &quot;14px&quot;, &quot;fontWeight&quot;: &quot;bold&quot;}}, &quot;tooltip&quot;: {&quot;formatter&quot;: function() { var ret = &#x27;&#x27;, multi, axis = this.series.yAxis, numericSymbols = [&#x27;k&#x27;, &#x27;M&#x27;, &#x27;G&#x27;, &#x27;T&#x27;, &#x27;P&#x27;, &#x27;E&#x27;], i = numericSymbols.length; while (i-- &amp;&amp; ret === &#x27;&#x27;) { multi = Math.pow(1000, i + 1); if (axis.tickInterval &gt;= multi &amp;&amp; numericSymbols[i] !== null) { ret = Highcharts.numberFormat(this.y / multi, 1) + numericSymbols[i]; } } return ret; }}, &quot;xAxis&quot;: {&quot;categories&quot;: [1, 2, 3, 4, 5, 6, 7, 8, 9, 10, 11, 12]}, &quot;yAxis&quot;: {&quot;title&quot;: {&quot;text&quot;: &quot;Empleados&quot;, &quot;style&quot;: {&quot;fontWeight&quot;: &quot;bold&quot;}}}}; var chart = new Highcharts.Chart(option); var data = [{&quot;data&quot;: [464399, 464723, 465061, 466514, 470412, 472264, 473462, 471490, 471935, 473667, 476482, 477164], &quot;type&quot;: &quot;line&quot;, &quot;name&quot;: &quot;2018&quot;}, {&quot;data&quot;: [469901, 471435, 471532, 467737, 469724, 462695, 462730, 459362, 464526, 466067, 467777, 467330], &quot;type&quot;: &quot;line&quot;, &quot;name&quot;: &quot;2019&quot;}, {&quot;data&quot;: [456885, 459689, 459383, 457237, 453075, 452666, 450764, 451842, 450155, 447915, 448408, 447859], &quot;type&quot;: &quot;line&quot;, &quot;name&quot;: &quot;2020&quot;}, {&quot;data&quot;: [441463, 442461, 443627, 443781, 445486, 445762, 445617, 445080, 444535, 444606, 443801, 445106], &quot;type&quot;: &quot;line&quot;, &quot;name&quot;: &quot;2021&quot;}, {&quot;data&quot;: [437507, 443283, 446284], &quot;type&quot;: &quot;line&quot;, &quot;name&quot;: &quot;2022&quot;}]; var dataLen = data.length; for (var ix = 0; ix &lt; dataLen; ix++) { chart.addSeries(data[ix]); } }); &lt;/script&gt; &lt;/body&gt; &lt;/html&gt;\" height=400 width=750></iframe>"
      ],
      "text/plain": [
       "<highcharts.highcharts.highcharts.Highchart at 0x291484deca0>"
      ]
     },
     "execution_count": 22,
     "metadata": {},
     "output_type": "execute_result"
    }
   ],
   "source": [
    "hchart('O', anios)"
   ]
  },
  {
   "cell_type": "markdown",
   "metadata": {},
   "source": [
    "<a id = 'P'></a>\n",
    "**Empleo registrado** <br>\n",
    "**CIIU P: Enseñanza**\n",
    "\n",
    "[Regresar](#seleccion_emp)"
   ]
  },
  {
   "cell_type": "code",
   "execution_count": 23,
   "metadata": {},
   "outputs": [
    {
     "data": {
      "text/html": [
       "<iframe style=\"border:0;outline:none;overflow:hidden\" srcdoc=\"&lt;!DOCTYPE html&gt; &lt;html lang=&quot;en&quot;&gt; &lt;head&gt; &lt;meta charset=&quot;utf-8&quot; /&gt; &lt;link href=&quot;https://www.highcharts.com/highslide/highslide.css&quot; rel=&quot;stylesheet&quot; /&gt; &lt;script type=&quot;text/javascript&quot; src=&quot;https://ajax.googleapis.com/ajax/libs/jquery/1.9.1/jquery.min.js&quot;&gt;&lt;/script&gt; &lt;script type=&quot;text/javascript&quot; src=&quot;https://code.highcharts.com/6/highcharts.js&quot;&gt;&lt;/script&gt; &lt;script type=&quot;text/javascript&quot; src=&quot;https://code.highcharts.com/6/highcharts-more.js&quot;&gt;&lt;/script&gt; &lt;script type=&quot;text/javascript&quot; src=&quot;https://code.highcharts.com/6/modules/heatmap.js&quot;&gt;&lt;/script&gt; &lt;script type=&quot;text/javascript&quot; src=&quot;https://code.highcharts.com/6/modules/exporting.js&quot;&gt;&lt;/script&gt; &lt;/head&gt; &lt;body style=&quot;margin:0;padding:0&quot;&gt; &lt;div id=&quot;container&quot; style=&quot;width:750px;height:400px;&quot;&gt;Loading....&lt;/div&gt; &lt;script&gt; $(function(){ Highcharts.setOptions({&quot;global&quot;: {}, &quot;lang&quot;: {}}); var option = {&quot;chart&quot;: {&quot;renderTo&quot;: &quot;container&quot;, &quot;width&quot;: 750, &quot;height&quot;: 400}, &quot;colors&quot;: [&quot;#1E4976&quot;, &quot;#5FA3BF&quot;, &quot;#BBBE64&quot;, &quot;#EFCB68&quot;, &quot;#E5825E&quot;, &quot;#D05022&quot;], &quot;credits&quot;: {&quot;enabled&quot;: false}, &quot;drilldown&quot;: {}, &quot;exporting&quot;: {}, &quot;labels&quot;: {}, &quot;legend&quot;: {}, &quot;loading&quot;: {}, &quot;navigation&quot;: {}, &quot;pane&quot;: {}, &quot;plotOptions&quot;: {&quot;line&quot;: {&quot;marker&quot;: {&quot;lineWidth&quot;: 2, &quot;symbol&quot;: &quot;circle&quot;}}}, &quot;series&quot;: {}, &quot;subtitle&quot;: {&quot;text&quot;: &quot;Ventas locales: Formulario 104 SRI&quot;, &quot;style&quot;: {&quot;fontSize&quot;: &quot;12px&quot;, &quot;fontWeight&quot;: &quot;bold&quot;}}, &quot;title&quot;: {&quot;text&quot;: [&quot;Ense\\u00f1anza&quot;], &quot;style&quot;: {&quot;fontSize&quot;: &quot;14px&quot;, &quot;fontWeight&quot;: &quot;bold&quot;}}, &quot;tooltip&quot;: {&quot;formatter&quot;: function() { var ret = &#x27;&#x27;, multi, axis = this.series.yAxis, numericSymbols = [&#x27;k&#x27;, &#x27;M&#x27;, &#x27;G&#x27;, &#x27;T&#x27;, &#x27;P&#x27;, &#x27;E&#x27;], i = numericSymbols.length; while (i-- &amp;&amp; ret === &#x27;&#x27;) { multi = Math.pow(1000, i + 1); if (axis.tickInterval &gt;= multi &amp;&amp; numericSymbols[i] !== null) { ret = Highcharts.numberFormat(this.y / multi, 1) + numericSymbols[i]; } } return ret; }}, &quot;xAxis&quot;: {&quot;categories&quot;: [1, 2, 3, 4, 5, 6, 7, 8, 9, 10, 11, 12]}, &quot;yAxis&quot;: {&quot;title&quot;: {&quot;text&quot;: &quot;Empleados&quot;, &quot;style&quot;: {&quot;fontWeight&quot;: &quot;bold&quot;}}}}; var chart = new Highcharts.Chart(option); var data = [{&quot;data&quot;: [125975, 125258, 122426, 124856, 127695, 128345, 127206, 126531, 127836, 130492, 130511, 130423], &quot;type&quot;: &quot;line&quot;, &quot;name&quot;: &quot;2018&quot;}, {&quot;data&quot;: [130364, 128805, 125894, 128291, 131360, 132188, 131063, 129441, 131618, 132501, 133058, 132574], &quot;type&quot;: &quot;line&quot;, &quot;name&quot;: &quot;2019&quot;}, {&quot;data&quot;: [132460, 130658, 127559, 123676, 119364, 116939, 114205, 112867, 111684, 110443, 111135, 111169], &quot;type&quot;: &quot;line&quot;, &quot;name&quot;: &quot;2020&quot;}, {&quot;data&quot;: [110659, 110747, 110061, 109175, 110592, 111740, 111515, 111924, 113239, 112621, 114080, 114675], &quot;type&quot;: &quot;line&quot;, &quot;name&quot;: &quot;2021&quot;}, {&quot;data&quot;: [114487, 115078, 113904], &quot;type&quot;: &quot;line&quot;, &quot;name&quot;: &quot;2022&quot;}]; var dataLen = data.length; for (var ix = 0; ix &lt; dataLen; ix++) { chart.addSeries(data[ix]); } }); &lt;/script&gt; &lt;/body&gt; &lt;/html&gt;\" height=400 width=750></iframe>"
      ],
      "text/plain": [
       "<highcharts.highcharts.highcharts.Highchart at 0x29148ac8250>"
      ]
     },
     "execution_count": 23,
     "metadata": {},
     "output_type": "execute_result"
    }
   ],
   "source": [
    "hchart('P', anios)"
   ]
  },
  {
   "cell_type": "markdown",
   "metadata": {},
   "source": [
    "<a id = 'Q'></a>\n",
    "**Empleo registrado** <br>\n",
    "**CIIU Q: Actividades de atención de la salud humana y de asistencia social**\n",
    "\n",
    "[Regresar](#seleccion_emp)"
   ]
  },
  {
   "cell_type": "code",
   "execution_count": 24,
   "metadata": {},
   "outputs": [
    {
     "data": {
      "text/html": [
       "<iframe style=\"border:0;outline:none;overflow:hidden\" srcdoc=\"&lt;!DOCTYPE html&gt; &lt;html lang=&quot;en&quot;&gt; &lt;head&gt; &lt;meta charset=&quot;utf-8&quot; /&gt; &lt;link href=&quot;https://www.highcharts.com/highslide/highslide.css&quot; rel=&quot;stylesheet&quot; /&gt; &lt;script type=&quot;text/javascript&quot; src=&quot;https://ajax.googleapis.com/ajax/libs/jquery/1.9.1/jquery.min.js&quot;&gt;&lt;/script&gt; &lt;script type=&quot;text/javascript&quot; src=&quot;https://code.highcharts.com/6/highcharts.js&quot;&gt;&lt;/script&gt; &lt;script type=&quot;text/javascript&quot; src=&quot;https://code.highcharts.com/6/highcharts-more.js&quot;&gt;&lt;/script&gt; &lt;script type=&quot;text/javascript&quot; src=&quot;https://code.highcharts.com/6/modules/heatmap.js&quot;&gt;&lt;/script&gt; &lt;script type=&quot;text/javascript&quot; src=&quot;https://code.highcharts.com/6/modules/exporting.js&quot;&gt;&lt;/script&gt; &lt;/head&gt; &lt;body style=&quot;margin:0;padding:0&quot;&gt; &lt;div id=&quot;container&quot; style=&quot;width:750px;height:400px;&quot;&gt;Loading....&lt;/div&gt; &lt;script&gt; $(function(){ Highcharts.setOptions({&quot;global&quot;: {}, &quot;lang&quot;: {}}); var option = {&quot;chart&quot;: {&quot;renderTo&quot;: &quot;container&quot;, &quot;width&quot;: 750, &quot;height&quot;: 400}, &quot;colors&quot;: [&quot;#1E4976&quot;, &quot;#5FA3BF&quot;, &quot;#BBBE64&quot;, &quot;#EFCB68&quot;, &quot;#E5825E&quot;, &quot;#D05022&quot;], &quot;credits&quot;: {&quot;enabled&quot;: false}, &quot;drilldown&quot;: {}, &quot;exporting&quot;: {}, &quot;labels&quot;: {}, &quot;legend&quot;: {}, &quot;loading&quot;: {}, &quot;navigation&quot;: {}, &quot;pane&quot;: {}, &quot;plotOptions&quot;: {&quot;line&quot;: {&quot;marker&quot;: {&quot;lineWidth&quot;: 2, &quot;symbol&quot;: &quot;circle&quot;}}}, &quot;series&quot;: {}, &quot;subtitle&quot;: {&quot;text&quot;: &quot;Ventas locales: Formulario 104 SRI&quot;, &quot;style&quot;: {&quot;fontSize&quot;: &quot;12px&quot;, &quot;fontWeight&quot;: &quot;bold&quot;}}, &quot;title&quot;: {&quot;text&quot;: [&quot;Actividades de atenci\\u00f3n de la salud humana y de asistencia social&quot;], &quot;style&quot;: {&quot;fontSize&quot;: &quot;14px&quot;, &quot;fontWeight&quot;: &quot;bold&quot;}}, &quot;tooltip&quot;: {&quot;formatter&quot;: function() { var ret = &#x27;&#x27;, multi, axis = this.series.yAxis, numericSymbols = [&#x27;k&#x27;, &#x27;M&#x27;, &#x27;G&#x27;, &#x27;T&#x27;, &#x27;P&#x27;, &#x27;E&#x27;], i = numericSymbols.length; while (i-- &amp;&amp; ret === &#x27;&#x27;) { multi = Math.pow(1000, i + 1); if (axis.tickInterval &gt;= multi &amp;&amp; numericSymbols[i] !== null) { ret = Highcharts.numberFormat(this.y / multi, 1) + numericSymbols[i]; } } return ret; }}, &quot;xAxis&quot;: {&quot;categories&quot;: [1, 2, 3, 4, 5, 6, 7, 8, 9, 10, 11, 12]}, &quot;yAxis&quot;: {&quot;title&quot;: {&quot;text&quot;: &quot;Empleados&quot;, &quot;style&quot;: {&quot;fontWeight&quot;: &quot;bold&quot;}}}}; var chart = new Highcharts.Chart(option); var data = [{&quot;data&quot;: [141638, 143974, 145157, 145808, 146470, 147352, 148264, 148533, 148767, 149673, 149967, 149670], &quot;type&quot;: &quot;line&quot;, &quot;name&quot;: &quot;2018&quot;}, {&quot;data&quot;: [149281, 149868, 150140, 149505, 150425, 150362, 150499, 150167, 151043, 150912, 151358, 151245], &quot;type&quot;: &quot;line&quot;, &quot;name&quot;: &quot;2019&quot;}, {&quot;data&quot;: [150004, 150159, 150557, 151477, 149786, 148595, 147937, 147310, 147977, 147725, 147683, 147565], &quot;type&quot;: &quot;line&quot;, &quot;name&quot;: &quot;2020&quot;}, {&quot;data&quot;: [146233, 147178, 148478, 149304, 150511, 150694, 151486, 151540, 152644, 152846, 152966, 153050], &quot;type&quot;: &quot;line&quot;, &quot;name&quot;: &quot;2021&quot;}, {&quot;data&quot;: [151746, 152781, 153443], &quot;type&quot;: &quot;line&quot;, &quot;name&quot;: &quot;2022&quot;}]; var dataLen = data.length; for (var ix = 0; ix &lt; dataLen; ix++) { chart.addSeries(data[ix]); } }); &lt;/script&gt; &lt;/body&gt; &lt;/html&gt;\" height=400 width=750></iframe>"
      ],
      "text/plain": [
       "<highcharts.highcharts.highcharts.Highchart at 0x29148ab8c10>"
      ]
     },
     "execution_count": 24,
     "metadata": {},
     "output_type": "execute_result"
    }
   ],
   "source": [
    "hchart('Q', anios)"
   ]
  },
  {
   "cell_type": "markdown",
   "metadata": {},
   "source": [
    "<a id = 'R'></a>\n",
    "**Empleo registrado** <br>\n",
    "**CIIU R: Artes, entretenimiento y recreación**\n",
    "\n",
    "[Regresar](#seleccion_emp)"
   ]
  },
  {
   "cell_type": "code",
   "execution_count": 25,
   "metadata": {},
   "outputs": [
    {
     "data": {
      "text/html": [
       "<iframe style=\"border:0;outline:none;overflow:hidden\" srcdoc=\"&lt;!DOCTYPE html&gt; &lt;html lang=&quot;en&quot;&gt; &lt;head&gt; &lt;meta charset=&quot;utf-8&quot; /&gt; &lt;link href=&quot;https://www.highcharts.com/highslide/highslide.css&quot; rel=&quot;stylesheet&quot; /&gt; &lt;script type=&quot;text/javascript&quot; src=&quot;https://ajax.googleapis.com/ajax/libs/jquery/1.9.1/jquery.min.js&quot;&gt;&lt;/script&gt; &lt;script type=&quot;text/javascript&quot; src=&quot;https://code.highcharts.com/6/highcharts.js&quot;&gt;&lt;/script&gt; &lt;script type=&quot;text/javascript&quot; src=&quot;https://code.highcharts.com/6/highcharts-more.js&quot;&gt;&lt;/script&gt; &lt;script type=&quot;text/javascript&quot; src=&quot;https://code.highcharts.com/6/modules/heatmap.js&quot;&gt;&lt;/script&gt; &lt;script type=&quot;text/javascript&quot; src=&quot;https://code.highcharts.com/6/modules/exporting.js&quot;&gt;&lt;/script&gt; &lt;/head&gt; &lt;body style=&quot;margin:0;padding:0&quot;&gt; &lt;div id=&quot;container&quot; style=&quot;width:750px;height:400px;&quot;&gt;Loading....&lt;/div&gt; &lt;script&gt; $(function(){ Highcharts.setOptions({&quot;global&quot;: {}, &quot;lang&quot;: {}}); var option = {&quot;chart&quot;: {&quot;renderTo&quot;: &quot;container&quot;, &quot;width&quot;: 750, &quot;height&quot;: 400}, &quot;colors&quot;: [&quot;#1E4976&quot;, &quot;#5FA3BF&quot;, &quot;#BBBE64&quot;, &quot;#EFCB68&quot;, &quot;#E5825E&quot;, &quot;#D05022&quot;], &quot;credits&quot;: {&quot;enabled&quot;: false}, &quot;drilldown&quot;: {}, &quot;exporting&quot;: {}, &quot;labels&quot;: {}, &quot;legend&quot;: {}, &quot;loading&quot;: {}, &quot;navigation&quot;: {}, &quot;pane&quot;: {}, &quot;plotOptions&quot;: {&quot;line&quot;: {&quot;marker&quot;: {&quot;lineWidth&quot;: 2, &quot;symbol&quot;: &quot;circle&quot;}}}, &quot;series&quot;: {}, &quot;subtitle&quot;: {&quot;text&quot;: &quot;Ventas locales: Formulario 104 SRI&quot;, &quot;style&quot;: {&quot;fontSize&quot;: &quot;12px&quot;, &quot;fontWeight&quot;: &quot;bold&quot;}}, &quot;title&quot;: {&quot;text&quot;: [&quot;Artes, entretenimiento y recreaci\\u00f3n&quot;], &quot;style&quot;: {&quot;fontSize&quot;: &quot;14px&quot;, &quot;fontWeight&quot;: &quot;bold&quot;}}, &quot;tooltip&quot;: {&quot;formatter&quot;: function() { var ret = &#x27;&#x27;, multi, axis = this.series.yAxis, numericSymbols = [&#x27;k&#x27;, &#x27;M&#x27;, &#x27;G&#x27;, &#x27;T&#x27;, &#x27;P&#x27;, &#x27;E&#x27;], i = numericSymbols.length; while (i-- &amp;&amp; ret === &#x27;&#x27;) { multi = Math.pow(1000, i + 1); if (axis.tickInterval &gt;= multi &amp;&amp; numericSymbols[i] !== null) { ret = Highcharts.numberFormat(this.y / multi, 1) + numericSymbols[i]; } } return ret; }}, &quot;xAxis&quot;: {&quot;categories&quot;: [1, 2, 3, 4, 5, 6, 7, 8, 9, 10, 11, 12]}, &quot;yAxis&quot;: {&quot;title&quot;: {&quot;text&quot;: &quot;Empleados&quot;, &quot;style&quot;: {&quot;fontWeight&quot;: &quot;bold&quot;}}}}; var chart = new Highcharts.Chart(option); var data = [{&quot;data&quot;: [15359, 15450, 16188, 16418, 16337, 16407, 16572, 16353, 16379, 16237, 16179, 15896], &quot;type&quot;: &quot;line&quot;, &quot;name&quot;: &quot;2018&quot;}, {&quot;data&quot;: [16190, 16260, 16452, 16722, 16747, 16734, 16901, 16729, 16627, 16394, 16327, 16106], &quot;type&quot;: &quot;line&quot;, &quot;name&quot;: &quot;2019&quot;}, {&quot;data&quot;: [15928, 16330, 16355, 15482, 14345, 13584, 13261, 13631, 13659, 13656, 13345, 12867], &quot;type&quot;: &quot;line&quot;, &quot;name&quot;: &quot;2020&quot;}, {&quot;data&quot;: [12561, 12859, 13048, 13254, 13977, 14457, 14406, 14525, 14083, 13793, 13630, 13346], &quot;type&quot;: &quot;line&quot;, &quot;name&quot;: &quot;2021&quot;}, {&quot;data&quot;: [13593, 13946, 14258], &quot;type&quot;: &quot;line&quot;, &quot;name&quot;: &quot;2022&quot;}]; var dataLen = data.length; for (var ix = 0; ix &lt; dataLen; ix++) { chart.addSeries(data[ix]); } }); &lt;/script&gt; &lt;/body&gt; &lt;/html&gt;\" height=400 width=750></iframe>"
      ],
      "text/plain": [
       "<highcharts.highcharts.highcharts.Highchart at 0x29148ac6c40>"
      ]
     },
     "execution_count": 25,
     "metadata": {},
     "output_type": "execute_result"
    }
   ],
   "source": [
    "hchart('R', anios)"
   ]
  },
  {
   "cell_type": "markdown",
   "metadata": {},
   "source": [
    "<a id = 'S'></a>\n",
    "**Empleo registrado** <br>\n",
    "**CIIU S: Otras actividades de servicios**\n",
    "\n",
    "[Regresar](#seleccion_emp)"
   ]
  },
  {
   "cell_type": "code",
   "execution_count": 26,
   "metadata": {},
   "outputs": [
    {
     "data": {
      "text/html": [
       "<iframe style=\"border:0;outline:none;overflow:hidden\" srcdoc=\"&lt;!DOCTYPE html&gt; &lt;html lang=&quot;en&quot;&gt; &lt;head&gt; &lt;meta charset=&quot;utf-8&quot; /&gt; &lt;link href=&quot;https://www.highcharts.com/highslide/highslide.css&quot; rel=&quot;stylesheet&quot; /&gt; &lt;script type=&quot;text/javascript&quot; src=&quot;https://ajax.googleapis.com/ajax/libs/jquery/1.9.1/jquery.min.js&quot;&gt;&lt;/script&gt; &lt;script type=&quot;text/javascript&quot; src=&quot;https://code.highcharts.com/6/highcharts.js&quot;&gt;&lt;/script&gt; &lt;script type=&quot;text/javascript&quot; src=&quot;https://code.highcharts.com/6/highcharts-more.js&quot;&gt;&lt;/script&gt; &lt;script type=&quot;text/javascript&quot; src=&quot;https://code.highcharts.com/6/modules/heatmap.js&quot;&gt;&lt;/script&gt; &lt;script type=&quot;text/javascript&quot; src=&quot;https://code.highcharts.com/6/modules/exporting.js&quot;&gt;&lt;/script&gt; &lt;/head&gt; &lt;body style=&quot;margin:0;padding:0&quot;&gt; &lt;div id=&quot;container&quot; style=&quot;width:750px;height:400px;&quot;&gt;Loading....&lt;/div&gt; &lt;script&gt; $(function(){ Highcharts.setOptions({&quot;global&quot;: {}, &quot;lang&quot;: {}}); var option = {&quot;chart&quot;: {&quot;renderTo&quot;: &quot;container&quot;, &quot;width&quot;: 750, &quot;height&quot;: 400}, &quot;colors&quot;: [&quot;#1E4976&quot;, &quot;#5FA3BF&quot;, &quot;#BBBE64&quot;, &quot;#EFCB68&quot;, &quot;#E5825E&quot;, &quot;#D05022&quot;], &quot;credits&quot;: {&quot;enabled&quot;: false}, &quot;drilldown&quot;: {}, &quot;exporting&quot;: {}, &quot;labels&quot;: {}, &quot;legend&quot;: {}, &quot;loading&quot;: {}, &quot;navigation&quot;: {}, &quot;pane&quot;: {}, &quot;plotOptions&quot;: {&quot;line&quot;: {&quot;marker&quot;: {&quot;lineWidth&quot;: 2, &quot;symbol&quot;: &quot;circle&quot;}}}, &quot;series&quot;: {}, &quot;subtitle&quot;: {&quot;text&quot;: &quot;Ventas locales: Formulario 104 SRI&quot;, &quot;style&quot;: {&quot;fontSize&quot;: &quot;12px&quot;, &quot;fontWeight&quot;: &quot;bold&quot;}}, &quot;title&quot;: {&quot;text&quot;: [&quot;Otras actividades de servicios&quot;], &quot;style&quot;: {&quot;fontSize&quot;: &quot;14px&quot;, &quot;fontWeight&quot;: &quot;bold&quot;}}, &quot;tooltip&quot;: {&quot;formatter&quot;: function() { var ret = &#x27;&#x27;, multi, axis = this.series.yAxis, numericSymbols = [&#x27;k&#x27;, &#x27;M&#x27;, &#x27;G&#x27;, &#x27;T&#x27;, &#x27;P&#x27;, &#x27;E&#x27;], i = numericSymbols.length; while (i-- &amp;&amp; ret === &#x27;&#x27;) { multi = Math.pow(1000, i + 1); if (axis.tickInterval &gt;= multi &amp;&amp; numericSymbols[i] !== null) { ret = Highcharts.numberFormat(this.y / multi, 1) + numericSymbols[i]; } } return ret; }}, &quot;xAxis&quot;: {&quot;categories&quot;: [1, 2, 3, 4, 5, 6, 7, 8, 9, 10, 11, 12]}, &quot;yAxis&quot;: {&quot;title&quot;: {&quot;text&quot;: &quot;Empleados&quot;, &quot;style&quot;: {&quot;fontWeight&quot;: &quot;bold&quot;}}}}; var chart = new Highcharts.Chart(option); var data = [{&quot;data&quot;: [60191, 60324, 60374, 60528, 60725, 61080, 61223, 61267, 61877, 62358, 62861, 62731], &quot;type&quot;: &quot;line&quot;, &quot;name&quot;: &quot;2018&quot;}, {&quot;data&quot;: [62295, 62597, 63228, 63444, 63519, 63966, 64102, 63829, 64084, 64268, 64670, 64376], &quot;type&quot;: &quot;line&quot;, &quot;name&quot;: &quot;2019&quot;}, {&quot;data&quot;: [63745, 63929, 63580, 61406, 58985, 57483, 56907, 57066, 57336, 57372, 57599, 57484], &quot;type&quot;: &quot;line&quot;, &quot;name&quot;: &quot;2020&quot;}, {&quot;data&quot;: [56410, 56682, 56847, 57204, 57861, 58201, 58342, 58801, 59230, 59488, 59593, 59503], &quot;type&quot;: &quot;line&quot;, &quot;name&quot;: &quot;2021&quot;}, {&quot;data&quot;: [59476, 59948, 60380], &quot;type&quot;: &quot;line&quot;, &quot;name&quot;: &quot;2022&quot;}]; var dataLen = data.length; for (var ix = 0; ix &lt; dataLen; ix++) { chart.addSeries(data[ix]); } }); &lt;/script&gt; &lt;/body&gt; &lt;/html&gt;\" height=400 width=750></iframe>"
      ],
      "text/plain": [
       "<highcharts.highcharts.highcharts.Highchart at 0x29148ad5940>"
      ]
     },
     "execution_count": 26,
     "metadata": {},
     "output_type": "execute_result"
    }
   ],
   "source": [
    "hchart('S', anios)"
   ]
  },
  {
   "cell_type": "markdown",
   "metadata": {},
   "source": [
    "<a id = 'T'></a>\n",
    "**Empleo registrado** <br>\n",
    "**CIIU T: Actividades de los hogares como empleadores; actividades no diferenciadas de los hogares como productores de bienes y servicios para uso propio**\n",
    "\n",
    "[Regresar](#seleccion_emp)"
   ]
  },
  {
   "cell_type": "code",
   "execution_count": 27,
   "metadata": {},
   "outputs": [
    {
     "data": {
      "text/html": [
       "<iframe style=\"border:0;outline:none;overflow:hidden\" srcdoc=\"&lt;!DOCTYPE html&gt; &lt;html lang=&quot;en&quot;&gt; &lt;head&gt; &lt;meta charset=&quot;utf-8&quot; /&gt; &lt;link href=&quot;https://www.highcharts.com/highslide/highslide.css&quot; rel=&quot;stylesheet&quot; /&gt; &lt;script type=&quot;text/javascript&quot; src=&quot;https://ajax.googleapis.com/ajax/libs/jquery/1.9.1/jquery.min.js&quot;&gt;&lt;/script&gt; &lt;script type=&quot;text/javascript&quot; src=&quot;https://code.highcharts.com/6/highcharts.js&quot;&gt;&lt;/script&gt; &lt;script type=&quot;text/javascript&quot; src=&quot;https://code.highcharts.com/6/highcharts-more.js&quot;&gt;&lt;/script&gt; &lt;script type=&quot;text/javascript&quot; src=&quot;https://code.highcharts.com/6/modules/heatmap.js&quot;&gt;&lt;/script&gt; &lt;script type=&quot;text/javascript&quot; src=&quot;https://code.highcharts.com/6/modules/exporting.js&quot;&gt;&lt;/script&gt; &lt;/head&gt; &lt;body style=&quot;margin:0;padding:0&quot;&gt; &lt;div id=&quot;container&quot; style=&quot;width:750px;height:400px;&quot;&gt;Loading....&lt;/div&gt; &lt;script&gt; $(function(){ Highcharts.setOptions({&quot;global&quot;: {}, &quot;lang&quot;: {}}); var option = {&quot;chart&quot;: {&quot;renderTo&quot;: &quot;container&quot;, &quot;width&quot;: 750, &quot;height&quot;: 400}, &quot;colors&quot;: [&quot;#1E4976&quot;, &quot;#5FA3BF&quot;, &quot;#BBBE64&quot;, &quot;#EFCB68&quot;, &quot;#E5825E&quot;, &quot;#D05022&quot;], &quot;credits&quot;: {&quot;enabled&quot;: false}, &quot;drilldown&quot;: {}, &quot;exporting&quot;: {}, &quot;labels&quot;: {}, &quot;legend&quot;: {}, &quot;loading&quot;: {}, &quot;navigation&quot;: {}, &quot;pane&quot;: {}, &quot;plotOptions&quot;: {&quot;line&quot;: {&quot;marker&quot;: {&quot;lineWidth&quot;: 2, &quot;symbol&quot;: &quot;circle&quot;}}}, &quot;series&quot;: {}, &quot;subtitle&quot;: {&quot;text&quot;: &quot;Ventas locales: Formulario 104 SRI&quot;, &quot;style&quot;: {&quot;fontSize&quot;: &quot;12px&quot;, &quot;fontWeight&quot;: &quot;bold&quot;}}, &quot;title&quot;: {&quot;text&quot;: [&quot;Actividades de los hogares como empleadores; actividades no diferenciadas de los hogares como productores de bienes y servicios para uso propio&quot;], &quot;style&quot;: {&quot;fontSize&quot;: &quot;14px&quot;, &quot;fontWeight&quot;: &quot;bold&quot;}}, &quot;tooltip&quot;: {&quot;formatter&quot;: function() { var ret = &#x27;&#x27;, multi, axis = this.series.yAxis, numericSymbols = [&#x27;k&#x27;, &#x27;M&#x27;, &#x27;G&#x27;, &#x27;T&#x27;, &#x27;P&#x27;, &#x27;E&#x27;], i = numericSymbols.length; while (i-- &amp;&amp; ret === &#x27;&#x27;) { multi = Math.pow(1000, i + 1); if (axis.tickInterval &gt;= multi &amp;&amp; numericSymbols[i] !== null) { ret = Highcharts.numberFormat(this.y / multi, 1) + numericSymbols[i]; } } return ret; }}, &quot;xAxis&quot;: {&quot;categories&quot;: [1, 2, 3, 4, 5, 6, 7, 8, 9, 10, 11, 12]}, &quot;yAxis&quot;: {&quot;title&quot;: {&quot;text&quot;: &quot;Empleados&quot;, &quot;style&quot;: {&quot;fontWeight&quot;: &quot;bold&quot;}}}}; var chart = new Highcharts.Chart(option); var data = [{&quot;data&quot;: [0, 0, 0, 0, 0, 0, 0, 0, 0, 0, 0, 0], &quot;type&quot;: &quot;line&quot;, &quot;name&quot;: &quot;2018&quot;}, {&quot;data&quot;: [0, 0, 0, 0, 0, 0, 0, 0, 0, 0, 0, 0], &quot;type&quot;: &quot;line&quot;, &quot;name&quot;: &quot;2019&quot;}, {&quot;data&quot;: [0, 0, 0, 0, 0, 0, 0, 0, 0, 0, 0, 0], &quot;type&quot;: &quot;line&quot;, &quot;name&quot;: &quot;2020&quot;}, {&quot;data&quot;: [0, 0, 0, 0, 0, 0, 0, 0, 0, 0, 0, 0], &quot;type&quot;: &quot;line&quot;, &quot;name&quot;: &quot;2021&quot;}, {&quot;data&quot;: [0, 0, 0], &quot;type&quot;: &quot;line&quot;, &quot;name&quot;: &quot;2022&quot;}]; var dataLen = data.length; for (var ix = 0; ix &lt; dataLen; ix++) { chart.addSeries(data[ix]); } }); &lt;/script&gt; &lt;/body&gt; &lt;/html&gt;\" height=400 width=750></iframe>"
      ],
      "text/plain": [
       "<highcharts.highcharts.highcharts.Highchart at 0x29148ac82b0>"
      ]
     },
     "execution_count": 27,
     "metadata": {},
     "output_type": "execute_result"
    }
   ],
   "source": [
    "hchart('T', anios)"
   ]
  },
  {
   "cell_type": "markdown",
   "metadata": {},
   "source": [
    "<a id = 'U'></a>\n",
    "**Empleo registrado** <br>\n",
    "**CIIU U: Actividades de organizaciones y órganos extraterritoriales**\n",
    "\n",
    "[Regresar](#seleccion_emp)"
   ]
  },
  {
   "cell_type": "code",
   "execution_count": 28,
   "metadata": {},
   "outputs": [
    {
     "data": {
      "text/html": [
       "<iframe style=\"border:0;outline:none;overflow:hidden\" srcdoc=\"&lt;!DOCTYPE html&gt; &lt;html lang=&quot;en&quot;&gt; &lt;head&gt; &lt;meta charset=&quot;utf-8&quot; /&gt; &lt;link href=&quot;https://www.highcharts.com/highslide/highslide.css&quot; rel=&quot;stylesheet&quot; /&gt; &lt;script type=&quot;text/javascript&quot; src=&quot;https://ajax.googleapis.com/ajax/libs/jquery/1.9.1/jquery.min.js&quot;&gt;&lt;/script&gt; &lt;script type=&quot;text/javascript&quot; src=&quot;https://code.highcharts.com/6/highcharts.js&quot;&gt;&lt;/script&gt; &lt;script type=&quot;text/javascript&quot; src=&quot;https://code.highcharts.com/6/highcharts-more.js&quot;&gt;&lt;/script&gt; &lt;script type=&quot;text/javascript&quot; src=&quot;https://code.highcharts.com/6/modules/heatmap.js&quot;&gt;&lt;/script&gt; &lt;script type=&quot;text/javascript&quot; src=&quot;https://code.highcharts.com/6/modules/exporting.js&quot;&gt;&lt;/script&gt; &lt;/head&gt; &lt;body style=&quot;margin:0;padding:0&quot;&gt; &lt;div id=&quot;container&quot; style=&quot;width:750px;height:400px;&quot;&gt;Loading....&lt;/div&gt; &lt;script&gt; $(function(){ Highcharts.setOptions({&quot;global&quot;: {}, &quot;lang&quot;: {}}); var option = {&quot;chart&quot;: {&quot;renderTo&quot;: &quot;container&quot;, &quot;width&quot;: 750, &quot;height&quot;: 400}, &quot;colors&quot;: [&quot;#1E4976&quot;, &quot;#5FA3BF&quot;, &quot;#BBBE64&quot;, &quot;#EFCB68&quot;, &quot;#E5825E&quot;, &quot;#D05022&quot;], &quot;credits&quot;: {&quot;enabled&quot;: false}, &quot;drilldown&quot;: {}, &quot;exporting&quot;: {}, &quot;labels&quot;: {}, &quot;legend&quot;: {}, &quot;loading&quot;: {}, &quot;navigation&quot;: {}, &quot;pane&quot;: {}, &quot;plotOptions&quot;: {&quot;line&quot;: {&quot;marker&quot;: {&quot;lineWidth&quot;: 2, &quot;symbol&quot;: &quot;circle&quot;}}}, &quot;series&quot;: {}, &quot;subtitle&quot;: {&quot;text&quot;: &quot;Ventas locales: Formulario 104 SRI&quot;, &quot;style&quot;: {&quot;fontSize&quot;: &quot;12px&quot;, &quot;fontWeight&quot;: &quot;bold&quot;}}, &quot;title&quot;: {&quot;text&quot;: [&quot;Actividades de organizaciones y \\u00f3rganos extraterritoriales&quot;], &quot;style&quot;: {&quot;fontSize&quot;: &quot;14px&quot;, &quot;fontWeight&quot;: &quot;bold&quot;}}, &quot;tooltip&quot;: {&quot;formatter&quot;: function() { var ret = &#x27;&#x27;, multi, axis = this.series.yAxis, numericSymbols = [&#x27;k&#x27;, &#x27;M&#x27;, &#x27;G&#x27;, &#x27;T&#x27;, &#x27;P&#x27;, &#x27;E&#x27;], i = numericSymbols.length; while (i-- &amp;&amp; ret === &#x27;&#x27;) { multi = Math.pow(1000, i + 1); if (axis.tickInterval &gt;= multi &amp;&amp; numericSymbols[i] !== null) { ret = Highcharts.numberFormat(this.y / multi, 1) + numericSymbols[i]; } } return ret; }}, &quot;xAxis&quot;: {&quot;categories&quot;: [1, 2, 3, 4, 5, 6, 7, 8, 9, 10, 11, 12]}, &quot;yAxis&quot;: {&quot;title&quot;: {&quot;text&quot;: &quot;Empleados&quot;, &quot;style&quot;: {&quot;fontWeight&quot;: &quot;bold&quot;}}}}; var chart = new Highcharts.Chart(option); var data = [{&quot;data&quot;: [442, 435, 430, 428, 433, 432, 436, 439, 440, 444, 435, 438], &quot;type&quot;: &quot;line&quot;, &quot;name&quot;: &quot;2018&quot;}, {&quot;data&quot;: [442, 441, 442, 444, 444, 434, 442, 436, 441, 439, 437, 443], &quot;type&quot;: &quot;line&quot;, &quot;name&quot;: &quot;2019&quot;}, {&quot;data&quot;: [439, 442, 440, 438, 437, 442, 445, 445, 443, 462, 461, 461], &quot;type&quot;: &quot;line&quot;, &quot;name&quot;: &quot;2020&quot;}, {&quot;data&quot;: [465, 460, 460, 453, 456, 460, 459, 460, 462, 467, 480, 478], &quot;type&quot;: &quot;line&quot;, &quot;name&quot;: &quot;2021&quot;}, {&quot;data&quot;: [474, 480, 483], &quot;type&quot;: &quot;line&quot;, &quot;name&quot;: &quot;2022&quot;}]; var dataLen = data.length; for (var ix = 0; ix &lt; dataLen; ix++) { chart.addSeries(data[ix]); } }); &lt;/script&gt; &lt;/body&gt; &lt;/html&gt;\" height=400 width=750></iframe>"
      ],
      "text/plain": [
       "<highcharts.highcharts.highcharts.Highchart at 0x29148ad54f0>"
      ]
     },
     "execution_count": 28,
     "metadata": {},
     "output_type": "execute_result"
    }
   ],
   "source": [
    "hchart('U', anios)"
   ]
  },
  {
   "cell_type": "code",
   "execution_count": 29,
   "metadata": {},
   "outputs": [
    {
     "data": {
      "text/html": [
       "<script src=\"https://cdn.rawgit.com/parente/4c3e6936d0d7a46fd071/raw/65b816fb9bdd3c28b4ddf3af602bfd6015486383/code_toggle.js\"></script>\n"
      ],
      "text/plain": [
       "<IPython.core.display.HTML object>"
      ]
     },
     "metadata": {},
     "output_type": "display_data"
    }
   ],
   "source": [
    "%%html\n",
    "<script src=\"https://cdn.rawgit.com/parente/4c3e6936d0d7a46fd071/raw/65b816fb9bdd3c28b4ddf3af602bfd6015486383/code_toggle.js\"></script>"
   ]
  }
 ],
 "metadata": {
  "kernelspec": {
   "display_name": "Python 3.9.13 64-bit",
   "language": "python",
   "name": "python3"
  },
  "language_info": {
   "codemirror_mode": {
    "name": "ipython",
    "version": 3
   },
   "file_extension": ".py",
   "mimetype": "text/x-python",
   "name": "python",
   "nbconvert_exporter": "python",
   "pygments_lexer": "ipython3",
   "version": "3.9.13"
  },
  "orig_nbformat": 4,
  "vscode": {
   "interpreter": {
    "hash": "b22a7390d0f9410c2c8a1f86b8606fd8f64cb682abd83aadf69df245a85634a3"
   }
  }
 },
 "nbformat": 4,
 "nbformat_minor": 2
}
